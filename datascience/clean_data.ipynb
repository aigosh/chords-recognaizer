{
 "cells": [
  {
   "cell_type": "code",
   "execution_count": 1,
   "metadata": {},
   "outputs": [
    {
     "name": "stdout",
     "output_type": "stream",
     "text": [
      "Collecting musthe\n",
      "  Downloading https://files.pythonhosted.org/packages/fb/cc/82660a8755a43b916114e2a86e83931066745db79b63b6dff5448ae07901/musthe-1.0.0-py2.py3-none-any.whl\n",
      "Installing collected packages: musthe\n",
      "Successfully installed musthe-1.0.0\n",
      "\u001b[33mYou are using pip version 18.1, however version 19.0.3 is available.\n",
      "You should consider upgrading via the 'pip install --upgrade pip' command.\u001b[0m\n"
     ]
    }
   ],
   "source": [
    "!pip install musthe"
   ]
  },
  {
   "cell_type": "code",
   "execution_count": 2,
   "metadata": {
    "collapsed": true
   },
   "outputs": [],
   "source": [
    "from musthe import *"
   ]
  },
  {
   "cell_type": "code",
   "execution_count": 17,
   "metadata": {},
   "outputs": [],
   "source": [
    "import numpy as np\n",
    "import matplotlib.pyplot as plt\n",
    "import wave\n",
    "import struct\n",
    "import sys\n",
    "#from scikits.audiolab import *\n",
    "import random\n",
    "from datetime import datetime\n",
    "import operator\n",
    "import scipy\n",
    "from scipy import signal\n",
    "import math\n",
    "from pylab import*\n",
    "import cmath\n",
    "import operator\n",
    "from tempfile import TemporaryFile\n",
    "\n",
    "\n",
    "def read_audio(filename):\n",
    "\tspf = wave.open(filename,'r')\n",
    "\tsignal = spf.readframes(-1)\n",
    "\tsignal = np.fromstring(signal, 'Int16')\n",
    "\tp = spf.getnchannels()\n",
    "\tf = spf.getframerate()\n",
    "\tsound_info = np.zeros(len(signal),dtype=float)\n",
    "\tsignal = signal.astype(np.float)\n",
    "\tsound_info = signal/max(signal)\n",
    "\n",
    "\t#sound_info = sound_info[1:len(sound_info):2]\n",
    "\tif p==2:\n",
    "\t\tsound_info = scipy.signal.decimate(sound_info,2)\n",
    "\n",
    "\treturn p ,f , sound_info\n",
    "\n",
    "\n",
    "def spectrogram(sound_info,f,nfft,hop):\n",
    "\tPxx, freqs, bins, im = specgram(sound_info, Fs = f, NFFT = nfft, noverlap=nfft-hop, scale_by_freq=True,sides='default')\n",
    "\treturn Pxx, freqs, bins, im\n",
    "\n",
    "\n",
    "def hz_to_oct(freq):\n",
    "\t#A6 = 27.5*(2^6)\n",
    "\t#A0 = 27.5\n",
    "\t#A4 = 440\n",
    "\tfmin = 27.5\n",
    "\tb = 24\n",
    "\treturn np.log2(freq/fmin)*b\n",
    "\n",
    "\n",
    "def oct_to_hz(oct):\n",
    "\tfmin = 27.5\n",
    "\tb = 24.0\n",
    "\treturn fmin*(2**(oct/b))\n",
    "\n",
    "\n",
    "def generate_filterbank(NFFT,fs,b,z):\n",
    "\t#b is bins per octave\n",
    "\t#z is number of octaves\n",
    "\t#b = 24\n",
    "\t#z = 6\n",
    "\t#fs(downsampled) = 44100/4 = 11025\n",
    "\n",
    "\toctmax = b*z\n",
    "\n",
    "\toctpts = np.arange(-1,octmax+1)\n",
    "\t#print 'octpts',octpts\n",
    "\t#print len(octpts)\n",
    "\n",
    "\tctrfrq = oct_to_hz(octpts)\n",
    "\t#print(\"ctrfrq\", ctrfrq)\n",
    "\t#print len(ctrfrq)\n",
    "\ttmp =(NFFT+2)\n",
    "\tprint(fs)\n",
    "\ttmp = tmp * ctrfrq/(fs/2)\n",
    "\tctrrep = np.floor(tmp)\n",
    "\t#print \"ctrrep\",ctrrep\n",
    "\t#print len(ctrrep)\n",
    "\n",
    "\tbank = np.zeros([len(octpts)-2, int(NFFT/2)+1],dtype=float)\n",
    "\n",
    "\tfor j in xrange(0,len(octpts)-2):\n",
    "\t\ty = np.hamming(ctrrep[j+2]-ctrrep[j])\n",
    "\t\tarea = trapz(y, dx=5)\n",
    "\t\tif area==0:\n",
    "\t\t\tarea=1\n",
    "\t\ty2 = (y/area)\n",
    "\t\tbank[j,ctrrep[j]:ctrrep[j+2]] = y2\n",
    "\t\t#plot(bank[j,:])\n",
    "\n",
    "\t#show()\n",
    "\treturn bank\n",
    "\n",
    "\n",
    "def generate_template():\n",
    "\tb = np.zeros(288).reshape(12,24)\n",
    "\n",
    "\ta = [0,0,0,1,0,0,0,1,0,0,1,0]\n",
    "\tb[:,0] = a\n",
    "\n",
    "\tfor i in range(1,12):\n",
    "\t\tb[:,i] = np.roll(b[:,i-1],1)\n",
    "\n",
    "\tminor = [0,0,0,1,0,0,1,0,0,0,1,0]\n",
    "\tb[:,12] = minor\n",
    "\n",
    "\tfor i in range(13,24):\n",
    "\t\tb[:,i] = np.roll(b[:,i-1],1)\n",
    "\t\n",
    "\treturn b"
   ]
  },
  {
   "cell_type": "code",
   "execution_count": 6,
   "metadata": {},
   "outputs": [
    {
     "name": "stderr",
     "output_type": "stream",
     "text": [
      "/anaconda3/lib/python3.6/site-packages/ipykernel_launcher.py:22: DeprecationWarning: Numeric-style type codes are deprecated and will result in an error in the future.\n",
      "/anaconda3/lib/python3.6/site-packages/ipykernel_launcher.py:22: DeprecationWarning: The binary mode of fromstring is deprecated, as it behaves surprisingly on unicode inputs. Use frombuffer instead\n",
      "/anaconda3/lib/python3.6/site-packages/scipy/signal/_arraytools.py:45: FutureWarning: Using a non-tuple sequence for multidimensional indexing is deprecated; use `arr[tuple(seq)]` instead of `arr[seq]`. In the future this will be interpreted as an array index, `arr[np.array(seq)]`, which will result either in an error or a different result.\n",
      "  b = a[a_slice]\n",
      "/anaconda3/lib/python3.6/site-packages/scipy/signal/signaltools.py:3445: FutureWarning: Using a non-tuple sequence for multidimensional indexing is deprecated; use `arr[tuple(seq)]` instead of `arr[seq]`. In the future this will be interpreted as an array index, `arr[np.array(seq)]`, which will result either in an error or a different result.\n",
      "  return y[sl]\n"
     ]
    },
    {
     "name": "stdout",
     "output_type": "stream",
     "text": [
      "frequency is  44100\n",
      "channels are  1\n",
      "148475\n",
      "37119\n",
      "length of audio is  37119\n"
     ]
    },
    {
     "data": {
      "image/png": "[encoded data removed]",
      "text/plain": [
       "<matplotlib.figure.Figure at 0x11b466ef0>"
      ]
     },
     "metadata": {},
     "output_type": "display_data"
    }
   ],
   "source": [
    "\"\"\"\n",
    "Read input audio wav file\n",
    "\"\"\"\n",
    "p, f, sound_info_old = read_audio('samples/am0.wav')\n",
    "print(\"frequency is \" ,f)\n",
    "print(\"channels are \",p)\n",
    "print(len(sound_info_old))\n",
    "#30 seconds is 1323000\n",
    "sound_info_deci = scipy.signal.decimate(sound_info_old,4)\n",
    "print(len(sound_info_deci))\n",
    "#165375 is 15 sec 330750 is 30 sec for downsampled signal\n",
    "sound_info = sound_info_deci[0:165375]\n",
    "print(\"length of audio is \",len(sound_info))\n",
    "f = f/4\n",
    "\n",
    "plot(sound_info)\n",
    "show()"
   ]
  },
  {
   "cell_type": "code",
   "execution_count": 19,
   "metadata": {},
   "outputs": [
    {
     "data": {
      "text/plain": [
       "<function RandomState.f>"
      ]
     },
     "execution_count": 19,
     "metadata": {},
     "output_type": "execute_result"
    }
   ],
   "source": []
  },
  {
   "cell_type": "code",
   "execution_count": 8,
   "metadata": {},
   "outputs": [
    {
     "name": "stdout",
     "output_type": "stream",
     "text": [
      "shape of Spectrogram is  (3001, 244)\n"
     ]
    },
    {
     "data": {
      "image/png": "[encoded data removed]",
      "text/plain": [
       "<matplotlib.figure.Figure at 0x11d56d5c0>"
      ]
     },
     "metadata": {},
     "output_type": "display_data"
    }
   ],
   "source": [
    "\"\"\"\n",
    "Compute spectrogram\n",
    "\"\"\"\n",
    "\n",
    "Pxx, freqs, bins, im = spectrogram(sound_info, f, 6000, 128)\n",
    "print(\"shape of Spectrogram is \",shape(Pxx))\n",
    "plot(Pxx,freqs)\n",
    "show()\n"
   ]
  },
  {
   "cell_type": "code",
   "execution_count": 18,
   "metadata": {},
   "outputs": [
    {
     "name": "stdout",
     "output_type": "stream",
     "text": [
      "<built-in method f of mtrand.RandomState object at 0x11a36bea0>\n"
     ]
    },
    {
     "ename": "TypeError",
     "evalue": "unsupported operand type(s) for /: 'builtin_function_or_method' and 'int'",
     "output_type": "error",
     "traceback": [
      "\u001b[0;31m---------------------------------------------------------------------------\u001b[0m",
      "\u001b[0;31mTypeError\u001b[0m                                 Traceback (most recent call last)",
      "\u001b[0;32m<ipython-input-18-b44f3c35c41d>\u001b[0m in \u001b[0;36m<module>\u001b[0;34m()\u001b[0m\n\u001b[1;32m      3\u001b[0m \"\"\"\n\u001b[1;32m      4\u001b[0m \u001b[0;34m\u001b[0m\u001b[0m\n\u001b[0;32m----> 5\u001b[0;31m \u001b[0mbank\u001b[0m \u001b[0;34m=\u001b[0m \u001b[0mgenerate_filterbank\u001b[0m\u001b[0;34m(\u001b[0m\u001b[0mNFFT\u001b[0m\u001b[0;34m=\u001b[0m\u001b[0;36m6000\u001b[0m\u001b[0;34m,\u001b[0m\u001b[0mfs\u001b[0m\u001b[0;34m=\u001b[0m\u001b[0mf\u001b[0m\u001b[0;34m,\u001b[0m\u001b[0mb\u001b[0m\u001b[0;34m=\u001b[0m\u001b[0;36m24\u001b[0m\u001b[0;34m,\u001b[0m\u001b[0mz\u001b[0m\u001b[0;34m=\u001b[0m\u001b[0;36m6\u001b[0m\u001b[0;34m)\u001b[0m\u001b[0;34m\u001b[0m\u001b[0;34m\u001b[0m\u001b[0m\n\u001b[0m\u001b[1;32m      6\u001b[0m \u001b[0mprint\u001b[0m\u001b[0;34m(\u001b[0m\u001b[0;34m\"shape of bank\"\u001b[0m\u001b[0;34m,\u001b[0m\u001b[0mshape\u001b[0m\u001b[0;34m(\u001b[0m\u001b[0mbank\u001b[0m\u001b[0;34m)\u001b[0m\u001b[0;34m)\u001b[0m\u001b[0;34m\u001b[0m\u001b[0;34m\u001b[0m\u001b[0m\n\u001b[1;32m      7\u001b[0m \u001b[0mim\u001b[0m \u001b[0;34m=\u001b[0m \u001b[0mimshow\u001b[0m\u001b[0;34m(\u001b[0m\u001b[0mbank\u001b[0m\u001b[0;34m,\u001b[0m\u001b[0maspect\u001b[0m\u001b[0;34m=\u001b[0m\u001b[0;34m'auto'\u001b[0m\u001b[0;34m,\u001b[0m\u001b[0minterpolation\u001b[0m\u001b[0;34m=\u001b[0m\u001b[0;34m'nearest'\u001b[0m\u001b[0;34m,\u001b[0m\u001b[0morigin\u001b[0m\u001b[0;34m=\u001b[0m\u001b[0;34m'lower'\u001b[0m\u001b[0;34m)\u001b[0m\u001b[0;34m\u001b[0m\u001b[0;34m\u001b[0m\u001b[0m\n",
      "\u001b[0;32m<ipython-input-17-d0b30f9fe999>\u001b[0m in \u001b[0;36mgenerate_filterbank\u001b[0;34m(NFFT, fs, b, z)\u001b[0m\n\u001b[1;32m     72\u001b[0m         \u001b[0mtmp\u001b[0m \u001b[0;34m=\u001b[0m\u001b[0;34m(\u001b[0m\u001b[0mNFFT\u001b[0m\u001b[0;34m+\u001b[0m\u001b[0;36m2\u001b[0m\u001b[0;34m)\u001b[0m\u001b[0;34m\u001b[0m\u001b[0;34m\u001b[0m\u001b[0m\n\u001b[1;32m     73\u001b[0m         \u001b[0mprint\u001b[0m\u001b[0;34m(\u001b[0m\u001b[0mfs\u001b[0m\u001b[0;34m)\u001b[0m\u001b[0;34m\u001b[0m\u001b[0;34m\u001b[0m\u001b[0m\n\u001b[0;32m---> 74\u001b[0;31m         \u001b[0mtmp\u001b[0m \u001b[0;34m=\u001b[0m \u001b[0mtmp\u001b[0m \u001b[0;34m*\u001b[0m \u001b[0mctrfrq\u001b[0m\u001b[0;34m/\u001b[0m\u001b[0;34m(\u001b[0m\u001b[0mfs\u001b[0m\u001b[0;34m/\u001b[0m\u001b[0;36m2\u001b[0m\u001b[0;34m)\u001b[0m\u001b[0;34m\u001b[0m\u001b[0;34m\u001b[0m\u001b[0m\n\u001b[0m\u001b[1;32m     75\u001b[0m         \u001b[0mctrrep\u001b[0m \u001b[0;34m=\u001b[0m \u001b[0mnp\u001b[0m\u001b[0;34m.\u001b[0m\u001b[0mfloor\u001b[0m\u001b[0;34m(\u001b[0m\u001b[0mtmp\u001b[0m\u001b[0;34m)\u001b[0m\u001b[0;34m\u001b[0m\u001b[0;34m\u001b[0m\u001b[0m\n\u001b[1;32m     76\u001b[0m         \u001b[0;31m#print \"ctrrep\",ctrrep\u001b[0m\u001b[0;34m\u001b[0m\u001b[0;34m\u001b[0m\u001b[0;34m\u001b[0m\u001b[0m\n",
      "\u001b[0;31mTypeError\u001b[0m: unsupported operand type(s) for /: 'builtin_function_or_method' and 'int'"
     ]
    }
   ],
   "source": [
    "\"\"\"\n",
    "Generate CQ filterabank\n",
    "\"\"\"\n",
    "\n",
    "bank = generate_filterbank(NFFT=6000,fs=f,b=24,z=6)\n",
    "print(\"shape of bank\",shape(bank))\n",
    "im = imshow(bank,aspect='auto',interpolation='nearest',origin='lower')\n",
    "show()"
   ]
  },
  {
   "cell_type": "code",
   "execution_count": null,
   "metadata": {
    "collapsed": true
   },
   "outputs": [],
   "source": []
  },
  {
   "cell_type": "code",
   "execution_count": 4,
   "metadata": {},
   "outputs": [
    {
     "ename": "SyntaxError",
     "evalue": "invalid syntax (<ipython-input-4-090da909f23b>, line 10)",
     "output_type": "error",
     "traceback": [
      "\u001b[0;36m  File \u001b[0;32m\"<ipython-input-4-090da909f23b>\"\u001b[0;36m, line \u001b[0;32m10\u001b[0m\n\u001b[0;31m    print len(sound_info_deci)\u001b[0m\n\u001b[0m            ^\u001b[0m\n\u001b[0;31mSyntaxError\u001b[0m\u001b[0;31m:\u001b[0m invalid syntax\n"
     ]
    }
   ],
   "source": [
    "\n",
    "\"\"\"\n",
    "Compute spectrogram\n",
    "\"\"\"\n",
    "\n",
    "Pxx, freqs, bins, im = spectrogram(sound_info, f, 6000, 128)\n",
    "print \"shape of Spectrogram is\",shape(Pxx)\n",
    "#plot(Pxx,freqs)\n",
    "#show()\n",
    "\n",
    "\n",
    "\"\"\"\n",
    "Generate CQ filterabank\n",
    "\"\"\"\n",
    "\n",
    "bank = generate_filterbank(NFFT=6000,fs=f,b=24,z=6)\n",
    "print \"shape of bank\",shape(bank)\n",
    "#im = imshow(bank,aspect='auto',interpolation='nearest',origin='lower')\n",
    "#show()\n",
    "\n",
    "\n",
    "\"\"\"\n",
    "Generate CQ spectrogram as the dot product of spectrogram and CQ filterabank\n",
    "\"\"\"\n",
    "\n",
    "sal = np.dot(bank,Pxx)\n",
    "b,col = shape(sal)\n",
    "\n",
    "#Replace 0 by 1 in matrix before taking log\n",
    "for i in range(0,len(sal)):\n",
    "\tfor j in range(0,len(sal[0])):\n",
    "\t\tif sal[i][j] == 0:\n",
    "\t\t\tsal[i][j]+=1\n",
    "\n",
    "sal = 10*np.log10(sal)\n",
    "#Normalize\n",
    "salm = np.zeros(shape(sal))\n",
    "salm = (sal - sal.min())/(sal.max()-sal.min())\n",
    "#salm = sal\n",
    "\n",
    "\"\"\"\n",
    "for i in range(col):\n",
    "\tsalm[:,i] = sal[:,i]/sum(sal[:,i])\n",
    "\"\"\"\n",
    "\n",
    "print \"shape of CQ Spectrogram is\",shape(salm)\n",
    "subplot(3,1,2)\n",
    "title('CQ spectrogram (dB)')\n",
    "#xlim(0,(len(sound_info)/11025.00))\n",
    "im = imshow(salm,aspect='auto',interpolation='nearest',origin='lower')\n",
    "xticks(np.arange(0,col,172),[0,2,4,6,8,10,12,14])\n",
    "\n",
    "#show()\n",
    "\n",
    "\n",
    "\"\"\"\n",
    "Generate Chroma\n",
    "\"\"\"\n",
    "row,col = shape(salm)\n",
    "#print row\n",
    "#print col\n",
    "b = 24\n",
    "\n",
    "chrm = np.zeros(b*col).reshape(b,col)\n",
    "\n",
    "for i in range(col):\n",
    "\tc = salm[:,i]\n",
    "\tfor j in range(b):\n",
    "\t\tchrm[j,i] = sum(c[j:row:b])\n",
    "\n",
    "#print chrm\n",
    "\n",
    "chrm_new = np.zeros(b*col).reshape(b,col)\n",
    "\n",
    "#median\n",
    "\"\"\"\n",
    "for i in range(b):\n",
    "\tfor j in range(col):\n",
    "\t\tchrm_new[i,j] = np.median(chrm[i,j-3:j+3])\n",
    "\"\"\"\n",
    "\n",
    "chrm_new = chrm\n",
    "\n",
    "chrm_new_norm = np.zeros(b*col).reshape(b,col)\n",
    "\n",
    "#normalise\n",
    "for i in range(col):\n",
    "\tchrm_new_norm[:,i] = chrm_new[:,i]/sum(chrm_new[:,i])\n",
    "\t#chrm_new_norm[i,j] = np.median(chrm_new[i,j-10:j+10])\n",
    "#print chrm_new_norm\n",
    "\n",
    "\n",
    "print \"shape of Chroma is\",shape(chrm_new_norm)\n",
    "subplot(3,1,3)\n",
    "title('Chroma (dB)')\n",
    "\n",
    "#save chroma in a .npy file\n",
    "chromaa = TemporaryFile()\n",
    "np.save('chroma1.npy',chrm_new_norm)\n",
    "\n",
    "im2 = imshow(chrm_new_norm,aspect='auto',interpolation='nearest',origin='lower')\n",
    "#xlim(0,(len(sound_info)/11025.00))\n",
    "yticks([1,3,5,7,9,11,13,15,17,19,21,23], ['A','A#','B','C','C#','D','D#','E','F','F#','G','G#'])\n",
    "xticks(np.arange(0,col,172),[0,2,4,6,8,10,12,14])\n",
    "\n",
    "#show()\n",
    "\n",
    "#only for plotting\n",
    "subplot(3,1,1)\n",
    "title('Spectrogram (dB)')\n",
    "Pxx, freqs, bins, im = spectrogram(sound_info, f, 6000, 128)\n",
    "plot(Pxx,freqs)\n",
    "xlim(0,(np.ceil(len(sound_info)/11025)))\n",
    "show()\n",
    "\n",
    "\n",
    "\"\"\"\n",
    "Generate Template\n",
    "\"\"\"\n",
    "\n",
    "temp = generate_template()\n",
    "xticks([0,1,2,3,4,5,6,7,8,9,10,11,12,13,14,15,16,17,18,19,20,21,22,23], \n",
    "\t['C','C#','D','D#','E','F','F#','G','G#','A','A#','B','c','c#','d','d#','e','f','f#','g','g#','a','a#','b'])\n",
    "yticks([0,1,2,3,4,5,6,7,8,9,10,11,12], ['A','A#','B','C','C#','D','D#','E','F','F#','G','G#'])\n",
    "title('Template')\n",
    "im = imshow(temp,aspect='auto',interpolation='nearest',origin='lower')\n",
    "show()\n",
    "\n",
    "print \"template shape is\",shape(temp)\n",
    "\n",
    "\n",
    "\"\"\"\n",
    "Fitness matrix computation by taking\n",
    "dot product of Template and Chroma\n",
    "\"\"\"\n",
    "\n",
    "#Since b=24, we need to take mean of 2 rows\n",
    "lol = zip(*chrm_new_norm[::-1])\n",
    "\n",
    "print shape(lol)\n",
    "lol = np.asarray(lol)\n",
    "grand = lol.reshape(-1,2).mean(axis=1).reshape(lol.shape[0],-1)\n",
    "#print shape(grand)\n",
    "\n",
    "grand2 = zip(*grand)[::-1]\n",
    "#print shape(grand2)\n",
    "\n",
    "match = np.dot(temp.T,grand2)\n",
    "\n",
    "match_norm = np.zeros(shape(match))\n",
    "\n",
    "#normalize\n",
    "\n",
    "for i in range(col):\n",
    "\tmatch_norm[:,i] = match[:,i]/sum(match[:,i])\n",
    "\n",
    "print \"matched array is\",shape(match_norm)\n",
    "title('Fitness Matrix')\n",
    "im = imshow(match_norm,aspect='auto',interpolation='nearest',origin='lower')\n",
    "yticks([0,1,2,3,4,5,6,7,8,9,10,11,12,13,14,15,16,17,18,19,20,21,22,23], \n",
    "\t['C','C#','D','D#','E','F','F#','G','G#','A','A#','B','c','c#','d','d#','e','f','f#','g','g#','a','a#','b'])\n",
    "show()\n",
    "\n",
    "#save tempogram in a .npy file\n",
    "match22 = TemporaryFile()\n",
    "np.save('tempogram1.npy',match_norm)\n",
    "\n",
    "print 'end'"
   ]
  },
  {
   "cell_type": "code",
   "execution_count": null,
   "metadata": {
    "collapsed": true
   },
   "outputs": [],
   "source": [
    "fro"
   ]
  },
  {
   "cell_type": "code",
   "execution_count": 10,
   "metadata": {
    "collapsed": true
   },
   "outputs": [],
   "source": [
    "import scikits"
   ]
  },
  {
   "cell_type": "code",
   "execution_count": 14,
   "metadata": {},
   "outputs": [
    {
     "ename": "SyntaxError",
     "evalue": "invalid syntax (book_crossing.py, line 119)",
     "output_type": "error",
     "traceback": [
      "Traceback \u001b[0;36m(most recent call last)\u001b[0m:\n",
      "  File \u001b[1;32m\"/anaconda3/lib/python3.6/site-packages/IPython/core/interactiveshell.py\"\u001b[0m, line \u001b[1;32m2862\u001b[0m, in \u001b[1;35mrun_code\u001b[0m\n    exec(code_obj, self.user_global_ns, self.user_ns)\n",
      "  File \u001b[1;32m\"<ipython-input-14-cb081c1f27f5>\"\u001b[0m, line \u001b[1;32m1\u001b[0m, in \u001b[1;35m<module>\u001b[0m\n    from scikits.crab import datasets\n",
      "\u001b[0;36m  File \u001b[0;32m\"/anaconda3/lib/python3.6/site-packages/scikits/crab/datasets/__init__.py\"\u001b[0;36m, line \u001b[0;32m4\u001b[0;36m, in \u001b[0;35m<module>\u001b[0;36m\u001b[0m\n\u001b[0;31m    from .book_crossing import load_bookcrossings\u001b[0m\n",
      "\u001b[0;36m  File \u001b[0;32m\"/anaconda3/lib/python3.6/site-packages/scikits/crab/datasets/book_crossing.py\"\u001b[0;36m, line \u001b[0;32m119\u001b[0m\n\u001b[0;31m    except Exception, e:\u001b[0m\n\u001b[0m                    ^\u001b[0m\n\u001b[0;31mSyntaxError\u001b[0m\u001b[0;31m:\u001b[0m invalid syntax\n"
     ]
    }
   ],
   "source": [
    "from scikits.crab import datasets"
   ]
  },
  {
   "cell_type": "code",
   "execution_count": 3,
   "metadata": {},
   "outputs": [
    {
     "name": "stdout",
     "output_type": "stream",
     "text": [
      "Collecting scikits.audiolab\n",
      "  Using cached https://files.pythonhosted.org/packages/b0/d8/d9babf3e4fa3ac8094e1783415bf60015a696779f4da4c70ae6141aa5e3a/scikits.audiolab-0.11.0.tar.gz\n",
      "    Complete output from command python setup.py egg_info:\n",
      "    SndfileInfo:\n",
      "    customize UnixCCompiler\n",
      "      libraries sndfile not found in /anaconda3/lib\n",
      "    customize UnixCCompiler\n",
      "      libraries sndfile not found in /usr/local/lib\n",
      "    customize UnixCCompiler\n",
      "      libraries sndfile not found in /usr/lib\n",
      "    customize UnixCCompiler\n",
      "      libraries sndfile not found in /opt/local/lib\n",
      "    Traceback (most recent call last):\n",
      "      File \"scikits/audiolab/pysndfile/setup.py\", line 20, in configuration\n",
      "        sf_config = sf_info.get_info(2)\n",
      "      File \"/anaconda3/lib/python3.6/site-packages/numpy/distutils/system_info.py\", line 631, in get_info\n",
      "        raise self.notfounderror(self.notfounderror.__doc__)\n",
      "    numpy.distutils.system_info.NotFoundError: Some third-party program or library is not found.\n",
      "    \n",
      "    During handling of the above exception, another exception occurred:\n",
      "    \n",
      "    Traceback (most recent call last):\n",
      "      File \"<string>\", line 1, in <module>\n",
      "      File \"/private/var/folders/4m/lljw3ylj3kx8jmd_xdx4yc840000gn/T/pip-install-zxxyejkn/scikits.audiolab/setup.py\", line 85, in <module>\n",
      "        classifiers=CLASSIFIERS)\n",
      "      File \"/anaconda3/lib/python3.6/site-packages/numpy/distutils/core.py\", line 135, in setup\n",
      "        config = configuration()\n",
      "      File \"/private/var/folders/4m/lljw3ylj3kx8jmd_xdx4yc840000gn/T/pip-install-zxxyejkn/scikits.audiolab/setup.py\", line 71, in configuration\n",
      "        config.add_subpackage(DISTNAME)\n",
      "      File \"/anaconda3/lib/python3.6/site-packages/numpy/distutils/misc_util.py\", line 1037, in add_subpackage\n",
      "        caller_level = 2)\n",
      "      File \"/anaconda3/lib/python3.6/site-packages/numpy/distutils/misc_util.py\", line 1006, in get_subpackage\n",
      "        caller_level = caller_level + 1)\n",
      "      File \"/anaconda3/lib/python3.6/site-packages/numpy/distutils/misc_util.py\", line 943, in _get_configuration_from_setup_py\n",
      "        config = setup_module.configuration(*args)\n",
      "      File \"scikits/audiolab/setup.py\", line 10, in configuration\n",
      "        confgr.add_subpackage('pysndfile')\n",
      "      File \"/anaconda3/lib/python3.6/site-packages/numpy/distutils/misc_util.py\", line 1037, in add_subpackage\n",
      "        caller_level = 2)\n",
      "      File \"/anaconda3/lib/python3.6/site-packages/numpy/distutils/misc_util.py\", line 1006, in get_subpackage\n",
      "        caller_level = caller_level + 1)\n",
      "      File \"/anaconda3/lib/python3.6/site-packages/numpy/distutils/misc_util.py\", line 943, in _get_configuration_from_setup_py\n",
      "        config = setup_module.configuration(*args)\n",
      "      File \"scikits/audiolab/pysndfile/setup.py\", line 25, in configuration\n",
      "        site.cfg file, in section [sndfile].\"\"\")\n",
      "    numpy.distutils.system_info.NotFoundError: sndfile (http://www.mega-nerd.com/libsndfile/) library not found.\n",
      "    Directories to search for the libraries can be specified in the\n",
      "    site.cfg file, in section [sndfile].\n",
      "    \n",
      "    ----------------------------------------\n",
      "\u001b[31mCommand \"python setup.py egg_info\" failed with error code 1 in /private/var/folders/4m/lljw3ylj3kx8jmd_xdx4yc840000gn/T/pip-install-zxxyejkn/scikits.audiolab/\u001b[0m\n"
     ]
    }
   ],
   "source": [
    "!pip install scikits.audiolab"
   ]
  },
  {
   "cell_type": "code",
   "execution_count": 2,
   "metadata": {},
   "outputs": [
    {
     "name": "stdout",
     "output_type": "stream",
     "text": [
      "Collecting pip\n",
      "\u001b[?25l  Downloading https://files.pythonhosted.org/packages/d8/f3/413bab4ff08e1fc4828dfc59996d721917df8e8583ea85385d51125dceff/pip-19.0.3-py2.py3-none-any.whl (1.4MB)\n",
      "\u001b[K    100% |████████████████████████████████| 1.4MB 517kB/s ta 0:00:01\n",
      "\u001b[?25hInstalling collected packages: pip\n",
      "  Found existing installation: pip 18.1\n",
      "    Uninstalling pip-18.1:\n",
      "      Successfully uninstalled pip-18.1\n",
      "Successfully installed pip-19.0.3\n"
     ]
    }
   ],
   "source": [
    "!pip install --upgrade pip"
   ]
  },
  {
   "cell_type": "code",
   "execution_count": 4,
   "metadata": {},
   "outputs": [
    {
     "name": "stdout",
     "output_type": "stream",
     "text": [
      "Cloning into 'crab'...\n",
      "remote: Enumerating objects: 1515, done.\u001b[K\n",
      "remote: Total 1515 (delta 0), reused 0 (delta 0), pack-reused 1515\u001b[K\n",
      "Receiving objects: 100% (1515/1515), 2.91 MiB | 469.00 KiB/s, done.\n",
      "Resolving deltas: 100% (701/701), done.\n"
     ]
    }
   ],
   "source": [
    "!git clone https://github.com/muricoca/crab.git"
   ]
  },
  {
   "cell_type": "code",
   "execution_count": 6,
   "metadata": {
    "collapsed": true
   },
   "outputs": [],
   "source": [
    "!cd crab"
   ]
  },
  {
   "cell_type": "code",
   "execution_count": 8,
   "metadata": {},
   "outputs": [
    {
     "name": "stdout",
     "output_type": "stream",
     "text": [
      "python: can't open file 'setup.py': [Errno 2] No such file or directory\r\n"
     ]
    }
   ],
   "source": [
    "!cd crab & python setup.py install"
   ]
  },
  {
   "cell_type": "code",
   "execution_count": null,
   "metadata": {
    "collapsed": true
   },
   "outputs": [],
   "source": []
  }
 ],
 "metadata": {
  "kernelspec": {
   "display_name": "Python 3",
   "language": "python",
   "name": "python3"
  },
  "language_info": {
   "codemirror_mode": {
    "name": "ipython",
    "version": 3
   },
   "file_extension": ".py",
   "mimetype": "text/x-python",
   "name": "python",
   "nbconvert_exporter": "python",
   "pygments_lexer": "ipython3",
   "version": "3.6.7"
  }
 },
 "nbformat": 4,
 "nbformat_minor": 2
}
