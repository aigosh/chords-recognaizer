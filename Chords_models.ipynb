{
  "nbformat": 4,
  "nbformat_minor": 0,
  "metadata": {
    "kernelspec": {
      "display_name": "Python 3",
      "language": "python",
      "name": "python3"
    },
    "language_info": {
      "codemirror_mode": {
        "name": "ipython",
        "version": 3
      },
      "file_extension": ".py",
      "mimetype": "text/x-python",
      "name": "python",
      "nbconvert_exporter": "python",
      "pygments_lexer": "ipython3",
      "version": "3.6.9"
    },
    "colab": {
      "name": "Chords_models.ipynb",
      "provenance": [],
      "collapsed_sections": []
    }
  },
  "cells": [
    {
      "cell_type": "code",
      "metadata": {
        "id": "C9UZRc6KLrpg",
        "colab_type": "code",
        "colab": {}
      },
      "source": [
        "import warnings\n",
        "warnings.filterwarnings('ignore')"
      ],
      "execution_count": 0,
      "outputs": []
    },
    {
      "cell_type": "code",
      "metadata": {
        "id": "-WFPApcmL6JV",
        "colab_type": "code",
        "outputId": "43cde909-85a1-4beb-b562-2b7ca78d80ed",
        "colab": {
          "base_uri": "https://localhost:8080/",
          "height": 124
        }
      },
      "source": [
        "from google.colab import drive\n",
        "drive.mount('/content/drive')"
      ],
      "execution_count": 0,
      "outputs": [
        {
          "output_type": "stream",
          "text": [
            "Go to this URL in a browser: https://accounts.google.com/o/oauth2/auth?client_id=947318989803-6bn6qk8qdgf4n4g3pfee6491hc0brc4i.apps.googleusercontent.com&redirect_uri=urn%3aietf%3awg%3aoauth%3a2.0%3aoob&response_type=code&scope=email%20https%3a%2f%2fwww.googleapis.com%2fauth%2fdocs.test%20https%3a%2f%2fwww.googleapis.com%2fauth%2fdrive%20https%3a%2f%2fwww.googleapis.com%2fauth%2fdrive.photos.readonly%20https%3a%2f%2fwww.googleapis.com%2fauth%2fpeopleapi.readonly\n",
            "\n",
            "Enter your authorization code:\n",
            "··········\n",
            "Mounted at /content/drive\n"
          ],
          "name": "stdout"
        }
      ]
    },
    {
      "cell_type": "code",
      "metadata": {
        "id": "sJAh61Z3Lrpl",
        "colab_type": "code",
        "colab": {}
      },
      "source": [
        "import argparse\n",
        "import sys\n",
        "import librosa\n",
        "\n",
        "\n",
        "def estimate_tuning(input_file):\n",
        "    '''Load an audio file and estimate tuning (in cents)'''\n",
        "\n",
        "    print('Loading ', input_file)\n",
        "    y, sr = librosa.load(input_file)\n",
        "\n",
        "    print('Separating harmonic component ... ')\n",
        "    y_harm = librosa.effects.harmonic(y)\n",
        "\n",
        "    print('Estimating tuning ... ')\n",
        "    # Just track the pitches associated with high magnitude\n",
        "    tuning = librosa.estimate_tuning(y=y_harm, sr=sr)\n",
        "\n",
        "    print('{:+0.2f} cents'.format(100 * tuning))\n",
        "\n",
        "\n",
        "def process_arguments(args):\n",
        "    '''Argparse function to get the program parameters'''\n",
        "\n",
        "    parser = argparse.ArgumentParser(description='Tuning estimation example')\n",
        "\n",
        "    parser.add_argument('input_file',\n",
        "                        action='store',\n",
        "                        help='path to the input file (wav, mp3, etc)')\n",
        "\n",
        "    return vars(parser.parse_args(args))"
      ],
      "execution_count": 0,
      "outputs": []
    },
    {
      "cell_type": "code",
      "metadata": {
        "id": "s2OjI1GvLrpo",
        "colab_type": "code",
        "colab": {}
      },
      "source": [
        "from librosa import sequence"
      ],
      "execution_count": 0,
      "outputs": []
    },
    {
      "cell_type": "code",
      "metadata": {
        "id": "n_pPGtbDLrps",
        "colab_type": "code",
        "colab": {}
      },
      "source": [
        "real_labels = ['C:maj', 'C#:maj', 'D:maj', 'D#:maj', 'E:maj', 'G:maj', 'G#:maj', 'A:maj', 'A#:maj',\n",
        "             'C:min', 'C#:min', 'D:min', 'D#:min', 'E:min', 'G:min', 'G#:min', 'A:min', 'A#:min']\n",
        "map_labels ={\n",
        "    'C:maj' : 'c',\n",
        "    'C#:maj': 'c',\n",
        "    'D:maj' : 'dm', \n",
        "    'D#:maj' : 'dm', \n",
        "    'E:maj' : 'e', \n",
        "    'G:maj' : 'g', \n",
        "    'G#:maj' : 'g', \n",
        "    'A:maj': 'am', \n",
        "    'A#:maj' : 'am',\n",
        "    'C:min' : 'c', \n",
        "    'C#:min': 'c', \n",
        "    'D:min' : 'dm', \n",
        "    'D#:min' : 'dm',\n",
        "    'E:min' : 'e',\n",
        "    'G:min': 'g', \n",
        "    'G#:min': 'g',\n",
        "    'A:min' : 'am',\n",
        "    'A#:min' : 'am'\n",
        "}"
      ],
      "execution_count": 0,
      "outputs": []
    },
    {
      "cell_type": "code",
      "metadata": {
        "id": "W9sgMFEULrpv",
        "colab_type": "code",
        "colab": {}
      },
      "source": [
        "def get_chord(input_file):\n",
        "    #print(input_file)\n",
        "    import numpy as np\n",
        "    from librosa import display\n",
        "    #input_file = 'samples/e0.wav'\n",
        "    # Create templates for major, minor, and no-chord qualities\n",
        "    maj_template = np.array([1,0,0, 0,1,0, 0,1,0, 0,0,0])\n",
        "    min_template = np.array([1,0,0, 1,0,0, 0,1,0, 0,0,0])\n",
        "    N_template   = np.array([1,1,1, 1,1,1, 1,1,1, 1,1,1.]) / 4.\n",
        "    # Generate the weighting matrix that maps chroma to labels\n",
        "    weights = np.zeros((25, 12), dtype=float)\n",
        "    labels = ['C:maj', 'C#:maj', 'D:maj', 'D#:maj', 'E:maj', 'F:maj',\n",
        "               'F#:maj', 'G:maj', 'G#:maj', 'A:maj', 'A#:maj', 'B:maj',\n",
        "             'C:min', 'C#:min', 'D:min', 'D#:min', 'E:min', 'F:min',\n",
        "             'F#:min', 'G:min', 'G#:min', 'A:min', 'A#:min', 'B:min',\n",
        "             'N']\n",
        "    for c in range(1):\n",
        "        weights[c, :] = np.roll(maj_template, c) # c:maj\n",
        "        weights[c + 12, :] = np.roll(min_template, c)  # c:min\n",
        "        weights[-1] = N_template  # the last row is the no-chord class\n",
        "    # Make a self-loop transition matrix over 25 states\n",
        "        trans = librosa.sequence.transition_loop(25, 0.9)\n",
        "        # Load in audio and make features\n",
        "        y, sr = librosa.load(input_file)\n",
        "        chroma = librosa.feature.chroma_cens(y=y, sr=sr, bins_per_octave=36)\n",
        "        # Map chroma (observations) to class (state) likelihoods\n",
        "        probs = np.exp(weights.dot(chroma))  # P[class | chroma] proportional to exp(template' chroma)\n",
        "        probs /= probs.sum(axis=0, keepdims=True)  # probabilities must sum to 1 in each column\n",
        "        # Compute independent frame-wise estimates\n",
        "        chords_ind = np.argmax(probs, axis=0)\n",
        "        # And viterbi estimates\n",
        "        chords_vit = librosa.sequence.viterbi_discriminative(probs, trans)\n",
        "        # Plot the features and prediction map\n",
        "#         import matplotlib.pyplot as plt\n",
        "#         plt.figure(figsize=(10, 6))\n",
        "#         plt.subplot(2,1,1)\n",
        "#         librosa.display.specshow(chroma, x_axis='time', y_axis='chroma')\n",
        "#         plt.colorbar()\n",
        "    #     plt.subplot(2,1,2)\n",
        "    #     librosa.display.specshow(weights, x_axis='chroma')\n",
        "    #     plt.yticks(np.arange(25) + 0.5, labels)\n",
        "    #     plt.ylabel('Chord')\n",
        "    #     plt.colorbar()\n",
        "    #     plt.tight_layout()\n",
        "    #     # And plot the results\n",
        "    #     plt.figure(figsize=(10, 4))\n",
        "    #     display.specshow(probs, x_axis='time', cmap='gray')\n",
        "    #     plt.colorbar()\n",
        "    #     times = librosa.frames_to_time(np.arange(len(chords_vit)))\n",
        "    #     plt.scatter(times, chords_ind + 0.75, color='lime', alpha=0.5, marker='+', s=15, label='Independent')\n",
        "    #     plt.scatter(times, chords_vit + 0.25, color='deeppink', alpha=0.5, marker='o', s=15, label='Viterbi')\n",
        "    #     plt.yticks(0.5 + np.unique(chords_vit), [labels[i] for i in np.unique(chords_vit)], va='center')\n",
        "    #     plt.legend(loc='best')\n",
        "    #     plt.tight_layout()\n",
        "    sum_ = chroma.sum(axis=1)\n",
        "    #sum_ = chroma.max(axis=1)\n",
        "    return sum_\n",
        "    #print(sum_)\n",
        "    mask = np.array(sum_ > 0.5).astype(int)\n",
        "    #print(mask)\n",
        "    #plt.show()\n",
        "    return mask\n",
        "#     while True:\n",
        "#         max_i = sum_.argmax()\n",
        "#         if labels[max_i] in real_labels:\n",
        "#             if map_labels[labels[max_i]] == 'am':\n",
        "#                 tmp = sorted(sum_)[::-1]\n",
        "#                 if tmp[0] / tmp[2] < 2.:\n",
        "#                     return mask, 'D:maj'\n",
        "#             return mask, labels[max_i]\n",
        "#         sum_[max_i] = 0.\n",
        "    #return labels[chroma.sum(axis=1).argmax()]"
      ],
      "execution_count": 0,
      "outputs": []
    },
    {
      "cell_type": "code",
      "metadata": {
        "id": "Qybzzh6WLrpy",
        "colab_type": "code",
        "outputId": "942cb676-2235-4994-f524-7ff37412206f",
        "colab": {
          "base_uri": "https://localhost:8080/",
          "height": 202
        }
      },
      "source": [
        "import pandas as pd\n",
        "import os\n",
        "data = pd.read_csv('drive/My Drive/easy_ans.txt', sep = ' ', dtype='str', header=None )\n",
        "data[0] = data[0].apply(lambda x : os.path.join('drive/My Drive/dataset-easy', x + '.wav'))\n",
        "data.head()"
      ],
      "execution_count": 60,
      "outputs": [
        {
          "output_type": "execute_result",
          "data": {
            "text/html": [
              "<div>\n",
              "<style scoped>\n",
              "    .dataframe tbody tr th:only-of-type {\n",
              "        vertical-align: middle;\n",
              "    }\n",
              "\n",
              "    .dataframe tbody tr th {\n",
              "        vertical-align: top;\n",
              "    }\n",
              "\n",
              "    .dataframe thead th {\n",
              "        text-align: right;\n",
              "    }\n",
              "</style>\n",
              "<table border=\"1\" class=\"dataframe\">\n",
              "  <thead>\n",
              "    <tr style=\"text-align: right;\">\n",
              "      <th></th>\n",
              "      <th>0</th>\n",
              "      <th>1</th>\n",
              "    </tr>\n",
              "  </thead>\n",
              "  <tbody>\n",
              "    <tr>\n",
              "      <th>0</th>\n",
              "      <td>drive/My Drive/dataset-easy/0000.wav</td>\n",
              "      <td>dm</td>\n",
              "    </tr>\n",
              "    <tr>\n",
              "      <th>1</th>\n",
              "      <td>drive/My Drive/dataset-easy/0001.wav</td>\n",
              "      <td>e</td>\n",
              "    </tr>\n",
              "    <tr>\n",
              "      <th>2</th>\n",
              "      <td>drive/My Drive/dataset-easy/0002.wav</td>\n",
              "      <td>c</td>\n",
              "    </tr>\n",
              "    <tr>\n",
              "      <th>3</th>\n",
              "      <td>drive/My Drive/dataset-easy/0003.wav</td>\n",
              "      <td>am</td>\n",
              "    </tr>\n",
              "    <tr>\n",
              "      <th>4</th>\n",
              "      <td>drive/My Drive/dataset-easy/0004.wav</td>\n",
              "      <td>c</td>\n",
              "    </tr>\n",
              "  </tbody>\n",
              "</table>\n",
              "</div>"
            ],
            "text/plain": [
              "                                      0   1\n",
              "0  drive/My Drive/dataset-easy/0000.wav  dm\n",
              "1  drive/My Drive/dataset-easy/0001.wav   e\n",
              "2  drive/My Drive/dataset-easy/0002.wav   c\n",
              "3  drive/My Drive/dataset-easy/0003.wav  am\n",
              "4  drive/My Drive/dataset-easy/0004.wav   c"
            ]
          },
          "metadata": {
            "tags": []
          },
          "execution_count": 60
        }
      ]
    },
    {
      "cell_type": "code",
      "metadata": {
        "id": "MaiqPAupLrp3",
        "colab_type": "code",
        "outputId": "14a2c28a-579e-40b4-b760-00d22daf85fb",
        "colab": {
          "base_uri": "https://localhost:8080/",
          "height": 52
        }
      },
      "source": [
        "print(data.shape)\n",
        "data = data.drop(961, axis=0)\n",
        "print(data.shape)"
      ],
      "execution_count": 61,
      "outputs": [
        {
          "output_type": "stream",
          "text": [
            "(1000, 2)\n",
            "(999, 2)\n"
          ],
          "name": "stdout"
        }
      ]
    },
    {
      "cell_type": "code",
      "metadata": {
        "id": "hoXxpi06Lrp6",
        "colab_type": "code",
        "colab": {}
      },
      "source": [
        "data['features'] = data[0].apply(lambda x : get_chord(x))\n",
        "#data.head()"
      ],
      "execution_count": 0,
      "outputs": []
    },
    {
      "cell_type": "code",
      "metadata": {
        "id": "FI1wGwXIoTAH",
        "colab_type": "code",
        "colab": {
          "base_uri": "https://localhost:8080/",
          "height": 202
        },
        "outputId": "a7f3b75c-9d81-40d9-d5be-80e3cfcbc257"
      },
      "source": [
        "data.head()"
      ],
      "execution_count": 63,
      "outputs": [
        {
          "output_type": "execute_result",
          "data": {
            "text/html": [
              "<div>\n",
              "<style scoped>\n",
              "    .dataframe tbody tr th:only-of-type {\n",
              "        vertical-align: middle;\n",
              "    }\n",
              "\n",
              "    .dataframe tbody tr th {\n",
              "        vertical-align: top;\n",
              "    }\n",
              "\n",
              "    .dataframe thead th {\n",
              "        text-align: right;\n",
              "    }\n",
              "</style>\n",
              "<table border=\"1\" class=\"dataframe\">\n",
              "  <thead>\n",
              "    <tr style=\"text-align: right;\">\n",
              "      <th></th>\n",
              "      <th>0</th>\n",
              "      <th>1</th>\n",
              "      <th>features</th>\n",
              "    </tr>\n",
              "  </thead>\n",
              "  <tbody>\n",
              "    <tr>\n",
              "      <th>0</th>\n",
              "      <td>drive/My Drive/dataset-easy/0000.wav</td>\n",
              "      <td>dm</td>\n",
              "      <td>[2.169381919016916, 3.390058058416455, 75.9886...</td>\n",
              "    </tr>\n",
              "    <tr>\n",
              "      <th>1</th>\n",
              "      <td>drive/My Drive/dataset-easy/0001.wav</td>\n",
              "      <td>e</td>\n",
              "      <td>[4.513895049803692, 0.9926772869944455, 1.3843...</td>\n",
              "    </tr>\n",
              "    <tr>\n",
              "      <th>2</th>\n",
              "      <td>drive/My Drive/dataset-easy/0002.wav</td>\n",
              "      <td>c</td>\n",
              "      <td>[113.33505252181617, 6.956102734052182, 3.0014...</td>\n",
              "    </tr>\n",
              "    <tr>\n",
              "      <th>3</th>\n",
              "      <td>drive/My Drive/dataset-easy/0003.wav</td>\n",
              "      <td>am</td>\n",
              "      <td>[40.00733236094169, 0.6997663769131763, 0.3389...</td>\n",
              "    </tr>\n",
              "    <tr>\n",
              "      <th>4</th>\n",
              "      <td>drive/My Drive/dataset-easy/0004.wav</td>\n",
              "      <td>c</td>\n",
              "      <td>[123.85238086221821, 6.078684154375269, 1.8656...</td>\n",
              "    </tr>\n",
              "  </tbody>\n",
              "</table>\n",
              "</div>"
            ],
            "text/plain": [
              "                                      0  ...                                           features\n",
              "0  drive/My Drive/dataset-easy/0000.wav  ...  [2.169381919016916, 3.390058058416455, 75.9886...\n",
              "1  drive/My Drive/dataset-easy/0001.wav  ...  [4.513895049803692, 0.9926772869944455, 1.3843...\n",
              "2  drive/My Drive/dataset-easy/0002.wav  ...  [113.33505252181617, 6.956102734052182, 3.0014...\n",
              "3  drive/My Drive/dataset-easy/0003.wav  ...  [40.00733236094169, 0.6997663769131763, 0.3389...\n",
              "4  drive/My Drive/dataset-easy/0004.wav  ...  [123.85238086221821, 6.078684154375269, 1.8656...\n",
              "\n",
              "[5 rows x 3 columns]"
            ]
          },
          "metadata": {
            "tags": []
          },
          "execution_count": 63
        }
      ]
    },
    {
      "cell_type": "code",
      "metadata": {
        "id": "uV-KhlEXrxKZ",
        "colab_type": "code",
        "colab": {}
      },
      "source": [
        "data_arr = np.array(data)"
      ],
      "execution_count": 0,
      "outputs": []
    },
    {
      "cell_type": "code",
      "metadata": {
        "id": "bbUdIbFRsRQS",
        "colab_type": "code",
        "colab": {}
      },
      "source": [
        "#np.savez(data_arr)"
      ],
      "execution_count": 0,
      "outputs": []
    },
    {
      "cell_type": "code",
      "metadata": {
        "id": "bClcFl7pLrp-",
        "colab_type": "code",
        "colab": {}
      },
      "source": [
        "data.to_pickle('data_pickle_easy_2.csv')"
      ],
      "execution_count": 0,
      "outputs": []
    },
    {
      "cell_type": "code",
      "metadata": {
        "id": "Vi1iebLMkY0e",
        "colab_type": "code",
        "colab": {}
      },
      "source": [
        "data = pd.read_pickle(\"drive/My Drive/data_pickle_easy_2.csv\")"
      ],
      "execution_count": 0,
      "outputs": []
    },
    {
      "cell_type": "code",
      "metadata": {
        "id": "UkSOW0WAtbuJ",
        "colab_type": "code",
        "colab": {
          "base_uri": "https://localhost:8080/",
          "height": 202
        },
        "outputId": "e5ce4137-072f-4736-ce20-e14c1c6dd6f5"
      },
      "source": [
        "data.head()"
      ],
      "execution_count": 70,
      "outputs": [
        {
          "output_type": "execute_result",
          "data": {
            "text/html": [
              "<div>\n",
              "<style scoped>\n",
              "    .dataframe tbody tr th:only-of-type {\n",
              "        vertical-align: middle;\n",
              "    }\n",
              "\n",
              "    .dataframe tbody tr th {\n",
              "        vertical-align: top;\n",
              "    }\n",
              "\n",
              "    .dataframe thead th {\n",
              "        text-align: right;\n",
              "    }\n",
              "</style>\n",
              "<table border=\"1\" class=\"dataframe\">\n",
              "  <thead>\n",
              "    <tr style=\"text-align: right;\">\n",
              "      <th></th>\n",
              "      <th>0</th>\n",
              "      <th>1</th>\n",
              "      <th>features</th>\n",
              "    </tr>\n",
              "  </thead>\n",
              "  <tbody>\n",
              "    <tr>\n",
              "      <th>0</th>\n",
              "      <td>drive/My Drive/dataset-easy/0000.wav</td>\n",
              "      <td>dm</td>\n",
              "      <td>[2.169381919016916, 3.390058058416455, 75.9886...</td>\n",
              "    </tr>\n",
              "    <tr>\n",
              "      <th>1</th>\n",
              "      <td>drive/My Drive/dataset-easy/0001.wav</td>\n",
              "      <td>e</td>\n",
              "      <td>[4.513895049803692, 0.9926772869944455, 1.3843...</td>\n",
              "    </tr>\n",
              "    <tr>\n",
              "      <th>2</th>\n",
              "      <td>drive/My Drive/dataset-easy/0002.wav</td>\n",
              "      <td>c</td>\n",
              "      <td>[113.33505252181617, 6.956102734052182, 3.0014...</td>\n",
              "    </tr>\n",
              "    <tr>\n",
              "      <th>3</th>\n",
              "      <td>drive/My Drive/dataset-easy/0003.wav</td>\n",
              "      <td>am</td>\n",
              "      <td>[40.00733236094169, 0.6997663769131763, 0.3389...</td>\n",
              "    </tr>\n",
              "    <tr>\n",
              "      <th>4</th>\n",
              "      <td>drive/My Drive/dataset-easy/0004.wav</td>\n",
              "      <td>c</td>\n",
              "      <td>[123.85238086221821, 6.078684154375269, 1.8656...</td>\n",
              "    </tr>\n",
              "  </tbody>\n",
              "</table>\n",
              "</div>"
            ],
            "text/plain": [
              "                                      0  ...                                           features\n",
              "0  drive/My Drive/dataset-easy/0000.wav  ...  [2.169381919016916, 3.390058058416455, 75.9886...\n",
              "1  drive/My Drive/dataset-easy/0001.wav  ...  [4.513895049803692, 0.9926772869944455, 1.3843...\n",
              "2  drive/My Drive/dataset-easy/0002.wav  ...  [113.33505252181617, 6.956102734052182, 3.0014...\n",
              "3  drive/My Drive/dataset-easy/0003.wav  ...  [40.00733236094169, 0.6997663769131763, 0.3389...\n",
              "4  drive/My Drive/dataset-easy/0004.wav  ...  [123.85238086221821, 6.078684154375269, 1.8656...\n",
              "\n",
              "[5 rows x 3 columns]"
            ]
          },
          "metadata": {
            "tags": []
          },
          "execution_count": 70
        }
      ]
    },
    {
      "cell_type": "code",
      "metadata": {
        "id": "r2KzDeohlIOe",
        "colab_type": "code",
        "colab": {
          "base_uri": "https://localhost:8080/",
          "height": 69
        },
        "outputId": "74f40ff4-950e-4d89-f922-60f78cbdbefb"
      },
      "source": [
        "data[\"features\"][0]"
      ],
      "execution_count": 72,
      "outputs": [
        {
          "output_type": "execute_result",
          "data": {
            "text/plain": [
              "array([  2.16938192,   3.39005806,  75.98867752,   6.50194888,\n",
              "        72.66851127,  32.36219507,   3.89219791,   4.22232639,\n",
              "         9.42862702, 104.36530395,   4.9890706 ,   8.02747524])"
            ]
          },
          "metadata": {
            "tags": []
          },
          "execution_count": 72
        }
      ]
    },
    {
      "cell_type": "code",
      "metadata": {
        "id": "Zsze0k7ILrqB",
        "colab_type": "code",
        "colab": {}
      },
      "source": [
        "class2indx = {\n",
        "    'am' : 0,\n",
        "    'dm' : 1,\n",
        "    'c' : 2,\n",
        "    'e' : 3,\n",
        "    'g' : 4\n",
        "}"
      ],
      "execution_count": 0,
      "outputs": []
    },
    {
      "cell_type": "code",
      "metadata": {
        "id": "UL7s2Um_LrqE",
        "colab_type": "code",
        "colab": {}
      },
      "source": [
        "i2class = {}\n",
        "for ac in class2indx.keys():\n",
        "    i2class[class2indx[ac]] = ac"
      ],
      "execution_count": 0,
      "outputs": []
    },
    {
      "cell_type": "code",
      "metadata": {
        "id": "JaS_gbwRLrqH",
        "colab_type": "code",
        "outputId": "9937266b-48ef-41fd-9ef4-56abfd068ad2",
        "colab": {
          "base_uri": "https://localhost:8080/",
          "height": 35
        }
      },
      "source": [
        "i2class"
      ],
      "execution_count": 75,
      "outputs": [
        {
          "output_type": "execute_result",
          "data": {
            "text/plain": [
              "{0: 'am', 1: 'dm', 2: 'c', 3: 'e', 4: 'g'}"
            ]
          },
          "metadata": {
            "tags": []
          },
          "execution_count": 75
        }
      ]
    },
    {
      "cell_type": "code",
      "metadata": {
        "id": "-3ToDTrsLrqK",
        "colab_type": "code",
        "colab": {}
      },
      "source": [
        "#pd.read_csv('data_easy.csv').head()"
      ],
      "execution_count": 0,
      "outputs": []
    },
    {
      "cell_type": "code",
      "metadata": {
        "id": "xD2aLeu9LrqN",
        "colab_type": "code",
        "colab": {}
      },
      "source": [
        "data['y'] = data[1].apply(lambda x : class2indx[x])"
      ],
      "execution_count": 0,
      "outputs": []
    },
    {
      "cell_type": "code",
      "metadata": {
        "id": "YnK0abGJLrqQ",
        "colab_type": "code",
        "outputId": "8fd91fb2-9031-446a-ab0b-38a0b84c4573",
        "colab": {
          "base_uri": "https://localhost:8080/",
          "height": 202
        }
      },
      "source": [
        "data.head()"
      ],
      "execution_count": 78,
      "outputs": [
        {
          "output_type": "execute_result",
          "data": {
            "text/html": [
              "<div>\n",
              "<style scoped>\n",
              "    .dataframe tbody tr th:only-of-type {\n",
              "        vertical-align: middle;\n",
              "    }\n",
              "\n",
              "    .dataframe tbody tr th {\n",
              "        vertical-align: top;\n",
              "    }\n",
              "\n",
              "    .dataframe thead th {\n",
              "        text-align: right;\n",
              "    }\n",
              "</style>\n",
              "<table border=\"1\" class=\"dataframe\">\n",
              "  <thead>\n",
              "    <tr style=\"text-align: right;\">\n",
              "      <th></th>\n",
              "      <th>0</th>\n",
              "      <th>1</th>\n",
              "      <th>features</th>\n",
              "      <th>y</th>\n",
              "    </tr>\n",
              "  </thead>\n",
              "  <tbody>\n",
              "    <tr>\n",
              "      <th>0</th>\n",
              "      <td>drive/My Drive/dataset-easy/0000.wav</td>\n",
              "      <td>dm</td>\n",
              "      <td>[2.169381919016916, 3.390058058416455, 75.9886...</td>\n",
              "      <td>1</td>\n",
              "    </tr>\n",
              "    <tr>\n",
              "      <th>1</th>\n",
              "      <td>drive/My Drive/dataset-easy/0001.wav</td>\n",
              "      <td>e</td>\n",
              "      <td>[4.513895049803692, 0.9926772869944455, 1.3843...</td>\n",
              "      <td>3</td>\n",
              "    </tr>\n",
              "    <tr>\n",
              "      <th>2</th>\n",
              "      <td>drive/My Drive/dataset-easy/0002.wav</td>\n",
              "      <td>c</td>\n",
              "      <td>[113.33505252181617, 6.956102734052182, 3.0014...</td>\n",
              "      <td>2</td>\n",
              "    </tr>\n",
              "    <tr>\n",
              "      <th>3</th>\n",
              "      <td>drive/My Drive/dataset-easy/0003.wav</td>\n",
              "      <td>am</td>\n",
              "      <td>[40.00733236094169, 0.6997663769131763, 0.3389...</td>\n",
              "      <td>0</td>\n",
              "    </tr>\n",
              "    <tr>\n",
              "      <th>4</th>\n",
              "      <td>drive/My Drive/dataset-easy/0004.wav</td>\n",
              "      <td>c</td>\n",
              "      <td>[123.85238086221821, 6.078684154375269, 1.8656...</td>\n",
              "      <td>2</td>\n",
              "    </tr>\n",
              "  </tbody>\n",
              "</table>\n",
              "</div>"
            ],
            "text/plain": [
              "                                      0  ...  y\n",
              "0  drive/My Drive/dataset-easy/0000.wav  ...  1\n",
              "1  drive/My Drive/dataset-easy/0001.wav  ...  3\n",
              "2  drive/My Drive/dataset-easy/0002.wav  ...  2\n",
              "3  drive/My Drive/dataset-easy/0003.wav  ...  0\n",
              "4  drive/My Drive/dataset-easy/0004.wav  ...  2\n",
              "\n",
              "[5 rows x 4 columns]"
            ]
          },
          "metadata": {
            "tags": []
          },
          "execution_count": 78
        }
      ]
    },
    {
      "cell_type": "code",
      "metadata": {
        "id": "ZfwZlCpOTBph",
        "colab_type": "code",
        "colab": {}
      },
      "source": [
        "X = list(data.features.values)\n",
        "y = data.y.values"
      ],
      "execution_count": 0,
      "outputs": []
    },
    {
      "cell_type": "code",
      "metadata": {
        "id": "8hZ-Y2pdS_TH",
        "colab_type": "code",
        "colab": {}
      },
      "source": [
        "from sklearn.model_selection import train_test_split \n",
        "\n",
        "X_train, X_test, y_train, y_test = train_test_split(X, y, test_size=0.2, random_state = 42)"
      ],
      "execution_count": 0,
      "outputs": []
    },
    {
      "cell_type": "code",
      "metadata": {
        "id": "xSPqB84-TWUw",
        "colab_type": "code",
        "colab": {}
      },
      "source": [
        "# XGBoost\n",
        "import numpy as np\n",
        "import xgboost as xgb\n",
        "from sklearn import model_selection\n",
        "\n",
        "n_trees = [1] + list(range(10, 150, 5))\n",
        "\n",
        "xgb_scoring = []\n",
        "for n_tree in n_trees:\n",
        "    estimator = xgb.XGBClassifier(weight='micro', learning_rate=0.1, max_depth=5, n_estimators=n_tree, min_child_weight=3)\n",
        "    score = model_selection.cross_val_score(estimator, X_train, y_train, \n",
        "                                             scoring = 'accuracy', cv = 3)    \n",
        "    xgb_scoring.append(score)\n",
        "xgb_scoring = np.asmatrix(xgb_scoring)"
      ],
      "execution_count": 0,
      "outputs": []
    },
    {
      "cell_type": "code",
      "metadata": {
        "id": "dcrxiTYNTWcq",
        "colab_type": "code",
        "colab": {}
      },
      "source": [
        "# Gradient Boosting (SkLearn)\n",
        "\n",
        "from sklearn.ensemble import GradientBoostingClassifier\n",
        "\n",
        "n_trees = [1] + list(range(10, 150, 5))\n",
        "gb_scoring = []\n",
        "for n_tree in n_trees:\n",
        "    estimator = GradientBoostingClassifier(learning_rate=0.1, max_depth=5, n_estimators=n_tree)\n",
        "    score = model_selection.cross_val_score(estimator, X_train, y_train, \n",
        "                                             scoring = 'accuracy', cv = 3)    \n",
        "    gb_scoring.append(score)\n",
        "gb_scoring = np.asmatrix(gb_scoring)"
      ],
      "execution_count": 0,
      "outputs": []
    },
    {
      "cell_type": "code",
      "metadata": {
        "id": "H17Z3WGfTY_H",
        "colab_type": "code",
        "outputId": "afa19088-c33c-4332-fb71-4d9da9a0cd1f",
        "colab": {
          "base_uri": "https://localhost:8080/",
          "height": 313
        }
      },
      "source": [
        "import pylab\n",
        "\n",
        "pylab.plot(n_trees, xgb_scoring.mean(axis = 1), marker='.', label='XGBoost')\n",
        "pylab.plot(n_trees, gb_scoring.mean(axis = 1), marker='.', label='GradientBoosting')\n",
        "pylab.grid(True)\n",
        "pylab.xlabel('n_trees')\n",
        "pylab.ylabel('score')\n",
        "pylab.title('accuracy')\n",
        "pylab.legend(loc='lower right')"
      ],
      "execution_count": 85,
      "outputs": [
        {
          "output_type": "execute_result",
          "data": {
            "text/plain": [
              "<matplotlib.legend.Legend at 0x7fbd6dfadcf8>"
            ]
          },
          "metadata": {
            "tags": []
          },
          "execution_count": 85
        },
        {
          "output_type": "display_data",
          "data": {
            "image/png": "[encoded data removed]",
            "text/plain": [
              "<Figure size 432x288 with 1 Axes>"
            ]
          },
          "metadata": {
            "tags": []
          }
        }
      ]
    },
    {
      "cell_type": "code",
      "metadata": {
        "id": "u2pJZH0ITZDG",
        "colab_type": "code",
        "outputId": "4bbe9ecb-7de5-41e6-e966-e9a3b0bfbc2c",
        "colab": {
          "base_uri": "https://localhost:8080/",
          "height": 35
        }
      },
      "source": [
        "from sklearn.metrics import f1_score, recall_score, precision_score, accuracy_score\n",
        "\n",
        "estimator_xgb = xgb.XGBClassifier(learning_rate=0.2, max_depth=60, n_estimators=60, min_child_weight=5)\n",
        "estimator_xgb.fit(np.array(X_train), y_train)\n",
        "prediction = estimator_xgb.predict(np.array(X_test))\n",
        "#estimator_gb = GradientBoostingClassifier(learning_rate=0.2, max_depth=60, n_estimators=60)\n",
        "#estimator_gb.fit(np.array(X_train), y_train)\n",
        "#prediction = estimator_gb.predict(np.array(X_test))\n",
        "test_score_accuracy = accuracy_score(list(y_test), list(prediction))\n",
        "test_score_f1 = f1_score(list(y_test), list(prediction), average='micro')\n",
        "test_score_recall = recall_score(list(y_test), list(prediction), average='micro') \n",
        "test_score_precision = precision_score(list(y_test), list(prediction), average='micro') \n",
        "print(test_score_accuracy, test_score_f1, test_score_recall, test_score_precision)"
      ],
      "execution_count": 137,
      "outputs": [
        {
          "output_type": "stream",
          "text": [
            "1.0 1.0 1.0 1.0\n"
          ],
          "name": "stdout"
        }
      ]
    },
    {
      "cell_type": "code",
      "metadata": {
        "id": "QQmEhWjsTd5q",
        "colab_type": "code",
        "colab": {}
      },
      "source": [
        ""
      ],
      "execution_count": 0,
      "outputs": []
    },
    {
      "cell_type": "code",
      "metadata": {
        "id": "x19jagSzLrqW",
        "colab_type": "code",
        "colab": {}
      },
      "source": [
        "from sklearn.ensemble import RandomForestClassifier"
      ],
      "execution_count": 0,
      "outputs": []
    },
    {
      "cell_type": "code",
      "metadata": {
        "id": "snC02FSDLrqY",
        "colab_type": "code",
        "colab": {}
      },
      "source": [
        "clf = RandomForestClassifier(n_estimators=80, random_state=42)"
      ],
      "execution_count": 0,
      "outputs": []
    },
    {
      "cell_type": "code",
      "metadata": {
        "id": "TdN2hOPOLrqe",
        "colab_type": "code",
        "outputId": "af2ed940-1302-439f-a65a-126c553327dc",
        "colab": {
          "base_uri": "https://localhost:8080/",
          "height": 156
        }
      },
      "source": [
        "clf.fit(X, y)"
      ],
      "execution_count": 142,
      "outputs": [
        {
          "output_type": "execute_result",
          "data": {
            "text/plain": [
              "RandomForestClassifier(bootstrap=True, ccp_alpha=0.0, class_weight=None,\n",
              "                       criterion='gini', max_depth=None, max_features='auto',\n",
              "                       max_leaf_nodes=None, max_samples=None,\n",
              "                       min_impurity_decrease=0.0, min_impurity_split=None,\n",
              "                       min_samples_leaf=1, min_samples_split=2,\n",
              "                       min_weight_fraction_leaf=0.0, n_estimators=80,\n",
              "                       n_jobs=None, oob_score=False, random_state=42, verbose=0,\n",
              "                       warm_start=False)"
            ]
          },
          "metadata": {
            "tags": []
          },
          "execution_count": 142
        }
      ]
    },
    {
      "cell_type": "code",
      "metadata": {
        "id": "1BNQAIKtLrqg",
        "colab_type": "code",
        "outputId": "0d3e89f8-cc38-4122-b478-e050037ba731",
        "colab": {
          "base_uri": "https://localhost:8080/",
          "height": 202
        }
      },
      "source": [
        "data.head()"
      ],
      "execution_count": 91,
      "outputs": [
        {
          "output_type": "execute_result",
          "data": {
            "text/html": [
              "<div>\n",
              "<style scoped>\n",
              "    .dataframe tbody tr th:only-of-type {\n",
              "        vertical-align: middle;\n",
              "    }\n",
              "\n",
              "    .dataframe tbody tr th {\n",
              "        vertical-align: top;\n",
              "    }\n",
              "\n",
              "    .dataframe thead th {\n",
              "        text-align: right;\n",
              "    }\n",
              "</style>\n",
              "<table border=\"1\" class=\"dataframe\">\n",
              "  <thead>\n",
              "    <tr style=\"text-align: right;\">\n",
              "      <th></th>\n",
              "      <th>0</th>\n",
              "      <th>1</th>\n",
              "      <th>features</th>\n",
              "      <th>y</th>\n",
              "    </tr>\n",
              "  </thead>\n",
              "  <tbody>\n",
              "    <tr>\n",
              "      <th>0</th>\n",
              "      <td>drive/My Drive/dataset-easy/0000.wav</td>\n",
              "      <td>dm</td>\n",
              "      <td>[2.169381919016916, 3.390058058416455, 75.9886...</td>\n",
              "      <td>1</td>\n",
              "    </tr>\n",
              "    <tr>\n",
              "      <th>1</th>\n",
              "      <td>drive/My Drive/dataset-easy/0001.wav</td>\n",
              "      <td>e</td>\n",
              "      <td>[4.513895049803692, 0.9926772869944455, 1.3843...</td>\n",
              "      <td>3</td>\n",
              "    </tr>\n",
              "    <tr>\n",
              "      <th>2</th>\n",
              "      <td>drive/My Drive/dataset-easy/0002.wav</td>\n",
              "      <td>c</td>\n",
              "      <td>[113.33505252181617, 6.956102734052182, 3.0014...</td>\n",
              "      <td>2</td>\n",
              "    </tr>\n",
              "    <tr>\n",
              "      <th>3</th>\n",
              "      <td>drive/My Drive/dataset-easy/0003.wav</td>\n",
              "      <td>am</td>\n",
              "      <td>[40.00733236094169, 0.6997663769131763, 0.3389...</td>\n",
              "      <td>0</td>\n",
              "    </tr>\n",
              "    <tr>\n",
              "      <th>4</th>\n",
              "      <td>drive/My Drive/dataset-easy/0004.wav</td>\n",
              "      <td>c</td>\n",
              "      <td>[123.85238086221821, 6.078684154375269, 1.8656...</td>\n",
              "      <td>2</td>\n",
              "    </tr>\n",
              "  </tbody>\n",
              "</table>\n",
              "</div>"
            ],
            "text/plain": [
              "                                      0  ...  y\n",
              "0  drive/My Drive/dataset-easy/0000.wav  ...  1\n",
              "1  drive/My Drive/dataset-easy/0001.wav  ...  3\n",
              "2  drive/My Drive/dataset-easy/0002.wav  ...  2\n",
              "3  drive/My Drive/dataset-easy/0003.wav  ...  0\n",
              "4  drive/My Drive/dataset-easy/0004.wav  ...  2\n",
              "\n",
              "[5 rows x 4 columns]"
            ]
          },
          "metadata": {
            "tags": []
          },
          "execution_count": 91
        }
      ]
    },
    {
      "cell_type": "code",
      "metadata": {
        "id": "RLpR_Lo4Lrqj",
        "colab_type": "code",
        "outputId": "b078357a-6714-4e9f-8d11-26dbb8be825c",
        "colab": {
          "base_uri": "https://localhost:8080/",
          "height": 35
        }
      },
      "source": [
        "clf.predict(X[:5])"
      ],
      "execution_count": 0,
      "outputs": [
        {
          "output_type": "execute_result",
          "data": {
            "text/plain": [
              "array([1, 3, 2, 0, 2])"
            ]
          },
          "metadata": {
            "tags": []
          },
          "execution_count": 27
        }
      ]
    },
    {
      "cell_type": "code",
      "metadata": {
        "id": "K4OtN4WFLrqm",
        "colab_type": "code",
        "colab": {}
      },
      "source": [
        "hard = []\n",
        "dir_ = 'drive/My Drive/dataset-hard'\n",
        "for root, folders, files in os.walk(dir_):\n",
        "    a = 0\n",
        "    for f in sorted(files):\n",
        "        if '3482' in f or '4693' in f:\n",
        "            #str_ = '{} {}\\n'.format(f.split('.')[0], 'dm')\n",
        "            #the_file.write(str_)\n",
        "            continue\n",
        "        #str_ = '{} {}\\n'.format(f.split('.')[0], map_labels[get_chord(os.path.join(dir_, f))])\n",
        "        #print(str_)\n",
        "        #the_file.write(str_)\n",
        "        hard.append([f, get_chord(os.path.join(dir_, f))])\n",
        "        if a > 100:\n",
        "          break\n",
        "        a += 1"
      ],
      "execution_count": 0,
      "outputs": []
    },
    {
      "cell_type": "code",
      "metadata": {
        "id": "tgHuGiRZvUB4",
        "colab_type": "code",
        "outputId": "b9a0b7f3-d73b-49ef-adef-6bc81b2f00e6",
        "colab": {
          "base_uri": "https://localhost:8080/",
          "height": 35
        }
      },
      "source": [
        "len(hard)"
      ],
      "execution_count": 97,
      "outputs": [
        {
          "output_type": "execute_result",
          "data": {
            "text/plain": [
              "102"
            ]
          },
          "metadata": {
            "tags": []
          },
          "execution_count": 97
        }
      ]
    },
    {
      "cell_type": "code",
      "metadata": {
        "id": "0zfp_rAbLrqo",
        "colab_type": "code",
        "colab": {}
      },
      "source": [
        "hard = pd.DataFrame(hard)"
      ],
      "execution_count": 0,
      "outputs": []
    },
    {
      "cell_type": "code",
      "metadata": {
        "id": "5YF9rEjXwHbt",
        "colab_type": "code",
        "colab": {
          "base_uri": "https://localhost:8080/",
          "height": 202
        },
        "outputId": "caf9ad1b-056b-4f1f-89fb-0cd376a3e88a"
      },
      "source": [
        "hard.head()"
      ],
      "execution_count": 99,
      "outputs": [
        {
          "output_type": "execute_result",
          "data": {
            "text/html": [
              "<div>\n",
              "<style scoped>\n",
              "    .dataframe tbody tr th:only-of-type {\n",
              "        vertical-align: middle;\n",
              "    }\n",
              "\n",
              "    .dataframe tbody tr th {\n",
              "        vertical-align: top;\n",
              "    }\n",
              "\n",
              "    .dataframe thead th {\n",
              "        text-align: right;\n",
              "    }\n",
              "</style>\n",
              "<table border=\"1\" class=\"dataframe\">\n",
              "  <thead>\n",
              "    <tr style=\"text-align: right;\">\n",
              "      <th></th>\n",
              "      <th>0</th>\n",
              "      <th>1</th>\n",
              "    </tr>\n",
              "  </thead>\n",
              "  <tbody>\n",
              "    <tr>\n",
              "      <th>0</th>\n",
              "      <td>0000.wav</td>\n",
              "      <td>[7.22783944862735, 24.136698252411325, 23.0919...</td>\n",
              "    </tr>\n",
              "    <tr>\n",
              "      <th>1</th>\n",
              "      <td>0001.wav</td>\n",
              "      <td>[51.29283825957494, 14.652621460118475, 8.9166...</td>\n",
              "    </tr>\n",
              "    <tr>\n",
              "      <th>2</th>\n",
              "      <td>0002.wav</td>\n",
              "      <td>[63.126117369567766, 53.29171667392426, 93.316...</td>\n",
              "    </tr>\n",
              "    <tr>\n",
              "      <th>3</th>\n",
              "      <td>0003.wav</td>\n",
              "      <td>[26.315855365364445, 14.394617230951422, 82.66...</td>\n",
              "    </tr>\n",
              "    <tr>\n",
              "      <th>4</th>\n",
              "      <td>0004.wav</td>\n",
              "      <td>[28.96086286196617, 15.074509466148534, 8.1362...</td>\n",
              "    </tr>\n",
              "  </tbody>\n",
              "</table>\n",
              "</div>"
            ],
            "text/plain": [
              "          0                                                  1\n",
              "0  0000.wav  [7.22783944862735, 24.136698252411325, 23.0919...\n",
              "1  0001.wav  [51.29283825957494, 14.652621460118475, 8.9166...\n",
              "2  0002.wav  [63.126117369567766, 53.29171667392426, 93.316...\n",
              "3  0003.wav  [26.315855365364445, 14.394617230951422, 82.66...\n",
              "4  0004.wav  [28.96086286196617, 15.074509466148534, 8.1362..."
            ]
          },
          "metadata": {
            "tags": []
          },
          "execution_count": 99
        }
      ]
    },
    {
      "cell_type": "code",
      "metadata": {
        "id": "FKB6GkOILrqq",
        "colab_type": "code",
        "colab": {}
      },
      "source": [
        "hard.to_pickle('hard_pickle_easy.csv')"
      ],
      "execution_count": 0,
      "outputs": []
    },
    {
      "cell_type": "code",
      "metadata": {
        "id": "XikTTlh7jtUT",
        "colab_type": "code",
        "colab": {}
      },
      "source": [
        ""
      ],
      "execution_count": 0,
      "outputs": []
    },
    {
      "cell_type": "code",
      "metadata": {
        "id": "zwAPdt1xjTli",
        "colab_type": "code",
        "colab": {}
      },
      "source": [
        "hard = pd.read_pickle(\"drive/My Drive/hard_pickle_easy.csv\")"
      ],
      "execution_count": 0,
      "outputs": []
    },
    {
      "cell_type": "code",
      "metadata": {
        "id": "trFtD__2Lrqt",
        "colab_type": "code",
        "outputId": "702c1c2c-4aaa-4ad4-a5be-7b32e1899d0d",
        "colab": {
          "base_uri": "https://localhost:8080/",
          "height": 202
        }
      },
      "source": [
        "hard.head()"
      ],
      "execution_count": 103,
      "outputs": [
        {
          "output_type": "execute_result",
          "data": {
            "text/html": [
              "<div>\n",
              "<style scoped>\n",
              "    .dataframe tbody tr th:only-of-type {\n",
              "        vertical-align: middle;\n",
              "    }\n",
              "\n",
              "    .dataframe tbody tr th {\n",
              "        vertical-align: top;\n",
              "    }\n",
              "\n",
              "    .dataframe thead th {\n",
              "        text-align: right;\n",
              "    }\n",
              "</style>\n",
              "<table border=\"1\" class=\"dataframe\">\n",
              "  <thead>\n",
              "    <tr style=\"text-align: right;\">\n",
              "      <th></th>\n",
              "      <th>0</th>\n",
              "      <th>1</th>\n",
              "    </tr>\n",
              "  </thead>\n",
              "  <tbody>\n",
              "    <tr>\n",
              "      <th>0</th>\n",
              "      <td>0000.wav</td>\n",
              "      <td>[7.22783944862735, 24.136698252411325, 23.0919...</td>\n",
              "    </tr>\n",
              "    <tr>\n",
              "      <th>1</th>\n",
              "      <td>0001.wav</td>\n",
              "      <td>[51.29283825957494, 14.652621460118475, 8.9166...</td>\n",
              "    </tr>\n",
              "    <tr>\n",
              "      <th>2</th>\n",
              "      <td>0002.wav</td>\n",
              "      <td>[63.126117369567766, 53.29171667392426, 93.316...</td>\n",
              "    </tr>\n",
              "    <tr>\n",
              "      <th>3</th>\n",
              "      <td>0003.wav</td>\n",
              "      <td>[26.315855365364445, 14.394617230951422, 82.66...</td>\n",
              "    </tr>\n",
              "    <tr>\n",
              "      <th>4</th>\n",
              "      <td>0004.wav</td>\n",
              "      <td>[28.96086286196617, 15.074509466148534, 8.1362...</td>\n",
              "    </tr>\n",
              "  </tbody>\n",
              "</table>\n",
              "</div>"
            ],
            "text/plain": [
              "          0                                                  1\n",
              "0  0000.wav  [7.22783944862735, 24.136698252411325, 23.0919...\n",
              "1  0001.wav  [51.29283825957494, 14.652621460118475, 8.9166...\n",
              "2  0002.wav  [63.126117369567766, 53.29171667392426, 93.316...\n",
              "3  0003.wav  [26.315855365364445, 14.394617230951422, 82.66...\n",
              "4  0004.wav  [28.96086286196617, 15.074509466148534, 8.1362..."
            ]
          },
          "metadata": {
            "tags": []
          },
          "execution_count": 103
        }
      ]
    },
    {
      "cell_type": "code",
      "metadata": {
        "id": "SITdx86wLrqx",
        "colab_type": "code",
        "outputId": "0844b4ea-18c3-4a07-9cd8-ae7d8be5bebb",
        "colab": {
          "base_uri": "https://localhost:8080/",
          "height": 35
        }
      },
      "source": [
        "hard.shape"
      ],
      "execution_count": 13,
      "outputs": [
        {
          "output_type": "execute_result",
          "data": {
            "text/plain": [
              "(5007, 2)"
            ]
          },
          "metadata": {
            "tags": []
          },
          "execution_count": 13
        }
      ]
    },
    {
      "cell_type": "code",
      "metadata": {
        "id": "7sbwf-sCLrqz",
        "colab_type": "code",
        "colab": {}
      },
      "source": [
        ""
      ],
      "execution_count": 0,
      "outputs": []
    },
    {
      "cell_type": "code",
      "metadata": {
        "id": "qDMuLzCJLrq1",
        "colab_type": "code",
        "outputId": "1440245c-d905-4921-aeb5-7ab5a2807d8e",
        "colab": {
          "base_uri": "https://localhost:8080/",
          "height": 87
        }
      },
      "source": [
        "from sklearn.svm import SVC\n",
        "\n",
        "X = list(data.features.values)\n",
        "y = data.y.values\n",
        "\n",
        "clf = SVC(C=0.000001)\n",
        "clf.fit(X, y)"
      ],
      "execution_count": 113,
      "outputs": [
        {
          "output_type": "execute_result",
          "data": {
            "text/plain": [
              "SVC(C=1e-06, break_ties=False, cache_size=200, class_weight=None, coef0=0.0,\n",
              "    decision_function_shape='ovr', degree=3, gamma='scale', kernel='rbf',\n",
              "    max_iter=-1, probability=False, random_state=None, shrinking=True,\n",
              "    tol=0.001, verbose=False)"
            ]
          },
          "metadata": {
            "tags": []
          },
          "execution_count": 113
        }
      ]
    },
    {
      "cell_type": "code",
      "metadata": {
        "id": "EjMAc6gALrq4",
        "colab_type": "code",
        "outputId": "9bf70e42-197c-428f-8b62-e76f3609b709",
        "colab": {}
      },
      "source": [
        "# from xgboost import XGBRegressor, XGBClassifier\n",
        "\n",
        "# clf = XGBClassifier()\n",
        "# clf.fit(np.array(X), y)"
      ],
      "execution_count": 0,
      "outputs": [
        {
          "output_type": "execute_result",
          "data": {
            "text/plain": [
              "XGBClassifier(base_score=0.5, booster='gbtree', colsample_bylevel=1,\n",
              "       colsample_bytree=1, gamma=0, learning_rate=0.1, max_delta_step=0,\n",
              "       max_depth=3, min_child_weight=1, missing=None, n_estimators=100,\n",
              "       n_jobs=1, nthread=None, objective='multi:softprob', random_state=0,\n",
              "       reg_alpha=0, reg_lambda=1, scale_pos_weight=1, seed=None,\n",
              "       silent=True, subsample=1)"
            ]
          },
          "metadata": {
            "tags": []
          },
          "execution_count": 122
        }
      ]
    },
    {
      "cell_type": "code",
      "metadata": {
        "id": "3HY7jGiOLrq6",
        "colab_type": "code",
        "colab": {}
      },
      "source": [
        "hard[1]"
      ],
      "execution_count": 0,
      "outputs": []
    },
    {
      "cell_type": "code",
      "metadata": {
        "id": "kyu5aDQVLrq9",
        "colab_type": "code",
        "colab": {}
      },
      "source": [
        "X_pred = list(hard[1].values)\n",
        "hard['pred_rf'] = clf.predict(X_pred)"
      ],
      "execution_count": 0,
      "outputs": []
    },
    {
      "cell_type": "code",
      "metadata": {
        "id": "OjbR3qh4LrrB",
        "colab_type": "code",
        "colab": {}
      },
      "source": [
        "prediction_gb = hard[\"pred_gb\"]"
      ],
      "execution_count": 0,
      "outputs": []
    },
    {
      "cell_type": "code",
      "metadata": {
        "id": "5RcAONN5zplW",
        "colab_type": "code",
        "colab": {
          "base_uri": "https://localhost:8080/",
          "height": 225
        },
        "outputId": "5a13f62a-4ae3-4c4c-bc7d-3b0ba6048b43"
      },
      "source": [
        "prediction_gb"
      ],
      "execution_count": 161,
      "outputs": [
        {
          "output_type": "execute_result",
          "data": {
            "text/plain": [
              "0      1\n",
              "1      3\n",
              "2      3\n",
              "3      3\n",
              "4      3\n",
              "      ..\n",
              "97     1\n",
              "98     2\n",
              "99     1\n",
              "100    3\n",
              "101    0\n",
              "Name: pred_gb, Length: 102, dtype: int64"
            ]
          },
          "metadata": {
            "tags": []
          },
          "execution_count": 161
        }
      ]
    },
    {
      "cell_type": "code",
      "metadata": {
        "id": "DJTiGQjj0Z_C",
        "colab_type": "code",
        "colab": {}
      },
      "source": [
        "prediction_xgb = hard[\"pred_xgb\"]"
      ],
      "execution_count": 0,
      "outputs": []
    },
    {
      "cell_type": "code",
      "metadata": {
        "id": "m-66mugP0b7l",
        "colab_type": "code",
        "colab": {
          "base_uri": "https://localhost:8080/",
          "height": 225
        },
        "outputId": "278ee236-ee9c-44a2-feb1-501ddd618ea6"
      },
      "source": [
        "prediction_xgb"
      ],
      "execution_count": 162,
      "outputs": [
        {
          "output_type": "execute_result",
          "data": {
            "text/plain": [
              "0      1\n",
              "1      1\n",
              "2      3\n",
              "3      3\n",
              "4      3\n",
              "      ..\n",
              "97     1\n",
              "98     2\n",
              "99     1\n",
              "100    3\n",
              "101    0\n",
              "Name: pred_xgb, Length: 102, dtype: int64"
            ]
          },
          "metadata": {
            "tags": []
          },
          "execution_count": 162
        }
      ]
    },
    {
      "cell_type": "code",
      "metadata": {
        "id": "Hg7JVcCv0vew",
        "colab_type": "code",
        "colab": {}
      },
      "source": [
        "prediction_rf = hard[\"pred_rf\"]"
      ],
      "execution_count": 0,
      "outputs": []
    },
    {
      "cell_type": "code",
      "metadata": {
        "id": "HCRMrvhG0vng",
        "colab_type": "code",
        "colab": {
          "base_uri": "https://localhost:8080/",
          "height": 225
        },
        "outputId": "4bfbe878-9ce6-43cb-8609-790f036882f2"
      },
      "source": [
        "prediction_rf"
      ],
      "execution_count": 165,
      "outputs": [
        {
          "output_type": "execute_result",
          "data": {
            "text/plain": [
              "0      1\n",
              "1      0\n",
              "2      4\n",
              "3      4\n",
              "4      3\n",
              "      ..\n",
              "97     1\n",
              "98     2\n",
              "99     2\n",
              "100    4\n",
              "101    0\n",
              "Name: pred_rf, Length: 102, dtype: int64"
            ]
          },
          "metadata": {
            "tags": []
          },
          "execution_count": 165
        }
      ]
    },
    {
      "cell_type": "code",
      "metadata": {
        "id": "IDjn1yrOLrrE",
        "colab_type": "code",
        "outputId": "5f94564a-ee96-444f-b28e-0434aea682c8",
        "colab": {
          "base_uri": "https://localhost:8080/",
          "height": 202
        }
      },
      "source": [
        "ans = hard[[0, 'pred']]\n",
        "ans.head()"
      ],
      "execution_count": 127,
      "outputs": [
        {
          "output_type": "execute_result",
          "data": {
            "text/html": [
              "<div>\n",
              "<style scoped>\n",
              "    .dataframe tbody tr th:only-of-type {\n",
              "        vertical-align: middle;\n",
              "    }\n",
              "\n",
              "    .dataframe tbody tr th {\n",
              "        vertical-align: top;\n",
              "    }\n",
              "\n",
              "    .dataframe thead th {\n",
              "        text-align: right;\n",
              "    }\n",
              "</style>\n",
              "<table border=\"1\" class=\"dataframe\">\n",
              "  <thead>\n",
              "    <tr style=\"text-align: right;\">\n",
              "      <th></th>\n",
              "      <th>0</th>\n",
              "      <th>pred</th>\n",
              "    </tr>\n",
              "  </thead>\n",
              "  <tbody>\n",
              "    <tr>\n",
              "      <th>0</th>\n",
              "      <td>0000.wav</td>\n",
              "      <td>1</td>\n",
              "    </tr>\n",
              "    <tr>\n",
              "      <th>1</th>\n",
              "      <td>0001.wav</td>\n",
              "      <td>1</td>\n",
              "    </tr>\n",
              "    <tr>\n",
              "      <th>2</th>\n",
              "      <td>0002.wav</td>\n",
              "      <td>3</td>\n",
              "    </tr>\n",
              "    <tr>\n",
              "      <th>3</th>\n",
              "      <td>0003.wav</td>\n",
              "      <td>3</td>\n",
              "    </tr>\n",
              "    <tr>\n",
              "      <th>4</th>\n",
              "      <td>0004.wav</td>\n",
              "      <td>3</td>\n",
              "    </tr>\n",
              "  </tbody>\n",
              "</table>\n",
              "</div>"
            ],
            "text/plain": [
              "          0  pred\n",
              "0  0000.wav     1\n",
              "1  0001.wav     1\n",
              "2  0002.wav     3\n",
              "3  0003.wav     3\n",
              "4  0004.wav     3"
            ]
          },
          "metadata": {
            "tags": []
          },
          "execution_count": 127
        }
      ]
    },
    {
      "cell_type": "code",
      "metadata": {
        "id": "t1EH6bKI07J6",
        "colab_type": "code",
        "colab": {}
      },
      "source": [
        "ans =  pd.concat([hard[[0]], prediction_gb, prediction_xgb, prediction_rf], axis = 1)"
      ],
      "execution_count": 0,
      "outputs": []
    },
    {
      "cell_type": "code",
      "metadata": {
        "id": "8GSn0ScG1Qtb",
        "colab_type": "code",
        "colab": {
          "base_uri": "https://localhost:8080/",
          "height": 415
        },
        "outputId": "9679712b-d853-4286-970b-1816e48558cf"
      },
      "source": [
        "ans"
      ],
      "execution_count": 167,
      "outputs": [
        {
          "output_type": "execute_result",
          "data": {
            "text/html": [
              "<div>\n",
              "<style scoped>\n",
              "    .dataframe tbody tr th:only-of-type {\n",
              "        vertical-align: middle;\n",
              "    }\n",
              "\n",
              "    .dataframe tbody tr th {\n",
              "        vertical-align: top;\n",
              "    }\n",
              "\n",
              "    .dataframe thead th {\n",
              "        text-align: right;\n",
              "    }\n",
              "</style>\n",
              "<table border=\"1\" class=\"dataframe\">\n",
              "  <thead>\n",
              "    <tr style=\"text-align: right;\">\n",
              "      <th></th>\n",
              "      <th>0</th>\n",
              "      <th>pred_gb</th>\n",
              "      <th>pred_xgb</th>\n",
              "      <th>pred_rf</th>\n",
              "    </tr>\n",
              "  </thead>\n",
              "  <tbody>\n",
              "    <tr>\n",
              "      <th>0</th>\n",
              "      <td>0000.wav</td>\n",
              "      <td>1</td>\n",
              "      <td>1</td>\n",
              "      <td>1</td>\n",
              "    </tr>\n",
              "    <tr>\n",
              "      <th>1</th>\n",
              "      <td>0001.wav</td>\n",
              "      <td>3</td>\n",
              "      <td>1</td>\n",
              "      <td>0</td>\n",
              "    </tr>\n",
              "    <tr>\n",
              "      <th>2</th>\n",
              "      <td>0002.wav</td>\n",
              "      <td>3</td>\n",
              "      <td>3</td>\n",
              "      <td>4</td>\n",
              "    </tr>\n",
              "    <tr>\n",
              "      <th>3</th>\n",
              "      <td>0003.wav</td>\n",
              "      <td>3</td>\n",
              "      <td>3</td>\n",
              "      <td>4</td>\n",
              "    </tr>\n",
              "    <tr>\n",
              "      <th>4</th>\n",
              "      <td>0004.wav</td>\n",
              "      <td>3</td>\n",
              "      <td>3</td>\n",
              "      <td>3</td>\n",
              "    </tr>\n",
              "    <tr>\n",
              "      <th>...</th>\n",
              "      <td>...</td>\n",
              "      <td>...</td>\n",
              "      <td>...</td>\n",
              "      <td>...</td>\n",
              "    </tr>\n",
              "    <tr>\n",
              "      <th>97</th>\n",
              "      <td>0097.wav</td>\n",
              "      <td>1</td>\n",
              "      <td>1</td>\n",
              "      <td>1</td>\n",
              "    </tr>\n",
              "    <tr>\n",
              "      <th>98</th>\n",
              "      <td>0098.wav</td>\n",
              "      <td>2</td>\n",
              "      <td>2</td>\n",
              "      <td>2</td>\n",
              "    </tr>\n",
              "    <tr>\n",
              "      <th>99</th>\n",
              "      <td>0099.wav</td>\n",
              "      <td>1</td>\n",
              "      <td>1</td>\n",
              "      <td>2</td>\n",
              "    </tr>\n",
              "    <tr>\n",
              "      <th>100</th>\n",
              "      <td>0100.wav</td>\n",
              "      <td>3</td>\n",
              "      <td>3</td>\n",
              "      <td>4</td>\n",
              "    </tr>\n",
              "    <tr>\n",
              "      <th>101</th>\n",
              "      <td>0101.wav</td>\n",
              "      <td>0</td>\n",
              "      <td>0</td>\n",
              "      <td>0</td>\n",
              "    </tr>\n",
              "  </tbody>\n",
              "</table>\n",
              "<p>102 rows × 4 columns</p>\n",
              "</div>"
            ],
            "text/plain": [
              "            0  pred_gb  pred_xgb  pred_rf\n",
              "0    0000.wav        1         1        1\n",
              "1    0001.wav        3         1        0\n",
              "2    0002.wav        3         3        4\n",
              "3    0003.wav        3         3        4\n",
              "4    0004.wav        3         3        3\n",
              "..        ...      ...       ...      ...\n",
              "97   0097.wav        1         1        1\n",
              "98   0098.wav        2         2        2\n",
              "99   0099.wav        1         1        2\n",
              "100  0100.wav        3         3        4\n",
              "101  0101.wav        0         0        0\n",
              "\n",
              "[102 rows x 4 columns]"
            ]
          },
          "metadata": {
            "tags": []
          },
          "execution_count": 167
        }
      ]
    },
    {
      "cell_type": "code",
      "metadata": {
        "id": "jyeiF5IOLrrG",
        "colab_type": "code",
        "outputId": "a119c774-c244-4b4e-d3be-3a595900cdb3",
        "colab": {
          "base_uri": "https://localhost:8080/",
          "height": 202
        }
      },
      "source": [
        "ans['ac_gb'] = ans['pred_gb'].apply(lambda x: i2class[x])\n",
        "ans['ac_xgb'] = ans['pred_xgb'].apply(lambda x: i2class[x])\n",
        "ans['ac_rf'] = ans['pred_rf'].apply(lambda x: i2class[x])\n",
        "ans.head()"
      ],
      "execution_count": 168,
      "outputs": [
        {
          "output_type": "execute_result",
          "data": {
            "text/html": [
              "<div>\n",
              "<style scoped>\n",
              "    .dataframe tbody tr th:only-of-type {\n",
              "        vertical-align: middle;\n",
              "    }\n",
              "\n",
              "    .dataframe tbody tr th {\n",
              "        vertical-align: top;\n",
              "    }\n",
              "\n",
              "    .dataframe thead th {\n",
              "        text-align: right;\n",
              "    }\n",
              "</style>\n",
              "<table border=\"1\" class=\"dataframe\">\n",
              "  <thead>\n",
              "    <tr style=\"text-align: right;\">\n",
              "      <th></th>\n",
              "      <th>0</th>\n",
              "      <th>pred_gb</th>\n",
              "      <th>pred_xgb</th>\n",
              "      <th>pred_rf</th>\n",
              "      <th>ac_gb</th>\n",
              "      <th>ac_xgb</th>\n",
              "      <th>ac_rf</th>\n",
              "    </tr>\n",
              "  </thead>\n",
              "  <tbody>\n",
              "    <tr>\n",
              "      <th>0</th>\n",
              "      <td>0000.wav</td>\n",
              "      <td>1</td>\n",
              "      <td>1</td>\n",
              "      <td>1</td>\n",
              "      <td>dm</td>\n",
              "      <td>dm</td>\n",
              "      <td>dm</td>\n",
              "    </tr>\n",
              "    <tr>\n",
              "      <th>1</th>\n",
              "      <td>0001.wav</td>\n",
              "      <td>3</td>\n",
              "      <td>1</td>\n",
              "      <td>0</td>\n",
              "      <td>e</td>\n",
              "      <td>dm</td>\n",
              "      <td>am</td>\n",
              "    </tr>\n",
              "    <tr>\n",
              "      <th>2</th>\n",
              "      <td>0002.wav</td>\n",
              "      <td>3</td>\n",
              "      <td>3</td>\n",
              "      <td>4</td>\n",
              "      <td>e</td>\n",
              "      <td>e</td>\n",
              "      <td>g</td>\n",
              "    </tr>\n",
              "    <tr>\n",
              "      <th>3</th>\n",
              "      <td>0003.wav</td>\n",
              "      <td>3</td>\n",
              "      <td>3</td>\n",
              "      <td>4</td>\n",
              "      <td>e</td>\n",
              "      <td>e</td>\n",
              "      <td>g</td>\n",
              "    </tr>\n",
              "    <tr>\n",
              "      <th>4</th>\n",
              "      <td>0004.wav</td>\n",
              "      <td>3</td>\n",
              "      <td>3</td>\n",
              "      <td>3</td>\n",
              "      <td>e</td>\n",
              "      <td>e</td>\n",
              "      <td>e</td>\n",
              "    </tr>\n",
              "  </tbody>\n",
              "</table>\n",
              "</div>"
            ],
            "text/plain": [
              "          0  pred_gb  pred_xgb  pred_rf ac_gb ac_xgb ac_rf\n",
              "0  0000.wav        1         1        1    dm     dm    dm\n",
              "1  0001.wav        3         1        0     e     dm    am\n",
              "2  0002.wav        3         3        4     e      e     g\n",
              "3  0003.wav        3         3        4     e      e     g\n",
              "4  0004.wav        3         3        3     e      e     e"
            ]
          },
          "metadata": {
            "tags": []
          },
          "execution_count": 168
        }
      ]
    },
    {
      "cell_type": "code",
      "metadata": {
        "id": "Oi2VoUDHLrrI",
        "colab_type": "code",
        "outputId": "1697c378-edc0-4452-99f4-f959b262688b",
        "colab": {
          "base_uri": "https://localhost:8080/",
          "height": 202
        }
      },
      "source": [
        "ans['id'] = ans[0].apply(lambda x: x.split('.')[0])\n",
        "ans.head()"
      ],
      "execution_count": 129,
      "outputs": [
        {
          "output_type": "execute_result",
          "data": {
            "text/html": [
              "<div>\n",
              "<style scoped>\n",
              "    .dataframe tbody tr th:only-of-type {\n",
              "        vertical-align: middle;\n",
              "    }\n",
              "\n",
              "    .dataframe tbody tr th {\n",
              "        vertical-align: top;\n",
              "    }\n",
              "\n",
              "    .dataframe thead th {\n",
              "        text-align: right;\n",
              "    }\n",
              "</style>\n",
              "<table border=\"1\" class=\"dataframe\">\n",
              "  <thead>\n",
              "    <tr style=\"text-align: right;\">\n",
              "      <th></th>\n",
              "      <th>0</th>\n",
              "      <th>pred</th>\n",
              "      <th>ac</th>\n",
              "      <th>id</th>\n",
              "    </tr>\n",
              "  </thead>\n",
              "  <tbody>\n",
              "    <tr>\n",
              "      <th>0</th>\n",
              "      <td>0000.wav</td>\n",
              "      <td>1</td>\n",
              "      <td>dm</td>\n",
              "      <td>0000</td>\n",
              "    </tr>\n",
              "    <tr>\n",
              "      <th>1</th>\n",
              "      <td>0001.wav</td>\n",
              "      <td>1</td>\n",
              "      <td>dm</td>\n",
              "      <td>0001</td>\n",
              "    </tr>\n",
              "    <tr>\n",
              "      <th>2</th>\n",
              "      <td>0002.wav</td>\n",
              "      <td>3</td>\n",
              "      <td>e</td>\n",
              "      <td>0002</td>\n",
              "    </tr>\n",
              "    <tr>\n",
              "      <th>3</th>\n",
              "      <td>0003.wav</td>\n",
              "      <td>3</td>\n",
              "      <td>e</td>\n",
              "      <td>0003</td>\n",
              "    </tr>\n",
              "    <tr>\n",
              "      <th>4</th>\n",
              "      <td>0004.wav</td>\n",
              "      <td>3</td>\n",
              "      <td>e</td>\n",
              "      <td>0004</td>\n",
              "    </tr>\n",
              "  </tbody>\n",
              "</table>\n",
              "</div>"
            ],
            "text/plain": [
              "          0  pred  ac    id\n",
              "0  0000.wav     1  dm  0000\n",
              "1  0001.wav     1  dm  0001\n",
              "2  0002.wav     3   e  0002\n",
              "3  0003.wav     3   e  0003\n",
              "4  0004.wav     3   e  0004"
            ]
          },
          "metadata": {
            "tags": []
          },
          "execution_count": 129
        }
      ]
    },
    {
      "cell_type": "code",
      "metadata": {
        "id": "s2RDJpTaLrrL",
        "colab_type": "code",
        "colab": {}
      },
      "source": [
        "print_ = ans[['id', 'ac']]\n",
        "print_.to_csv('hard_ans_rf.txt', sep=' ', index=False)"
      ],
      "execution_count": 0,
      "outputs": []
    },
    {
      "cell_type": "code",
      "metadata": {
        "id": "_jxD0-5OLrrP",
        "colab_type": "code",
        "colab": {}
      },
      "source": [
        "ans.to_csv(\"answers.csv\")"
      ],
      "execution_count": 0,
      "outputs": []
    },
    {
      "cell_type": "code",
      "metadata": {
        "id": "_jcOoRk0LrrU",
        "colab_type": "code",
        "colab": {}
      },
      "source": [
        "ans = pd.read_csv(\"drive/My Drive/answers.csv\")"
      ],
      "execution_count": 0,
      "outputs": []
    },
    {
      "cell_type": "code",
      "metadata": {
        "id": "rJ6x-7YD3G-q",
        "colab_type": "code",
        "colab": {
          "base_uri": "https://localhost:8080/",
          "height": 202
        },
        "outputId": "c1fd101a-66ee-4b68-fcdd-e363807ce3ea"
      },
      "source": [
        "ans.head()"
      ],
      "execution_count": 171,
      "outputs": [
        {
          "output_type": "execute_result",
          "data": {
            "text/html": [
              "<div>\n",
              "<style scoped>\n",
              "    .dataframe tbody tr th:only-of-type {\n",
              "        vertical-align: middle;\n",
              "    }\n",
              "\n",
              "    .dataframe tbody tr th {\n",
              "        vertical-align: top;\n",
              "    }\n",
              "\n",
              "    .dataframe thead th {\n",
              "        text-align: right;\n",
              "    }\n",
              "</style>\n",
              "<table border=\"1\" class=\"dataframe\">\n",
              "  <thead>\n",
              "    <tr style=\"text-align: right;\">\n",
              "      <th></th>\n",
              "      <th>Unnamed: 0</th>\n",
              "      <th>0</th>\n",
              "      <th>pred_gb</th>\n",
              "      <th>pred_xgb</th>\n",
              "      <th>pred_rf</th>\n",
              "      <th>ac_gb</th>\n",
              "      <th>ac_xgb</th>\n",
              "      <th>ac_rf</th>\n",
              "    </tr>\n",
              "  </thead>\n",
              "  <tbody>\n",
              "    <tr>\n",
              "      <th>0</th>\n",
              "      <td>0</td>\n",
              "      <td>0000.wav</td>\n",
              "      <td>1</td>\n",
              "      <td>1</td>\n",
              "      <td>1</td>\n",
              "      <td>dm</td>\n",
              "      <td>dm</td>\n",
              "      <td>dm</td>\n",
              "    </tr>\n",
              "    <tr>\n",
              "      <th>1</th>\n",
              "      <td>1</td>\n",
              "      <td>0001.wav</td>\n",
              "      <td>3</td>\n",
              "      <td>1</td>\n",
              "      <td>0</td>\n",
              "      <td>e</td>\n",
              "      <td>dm</td>\n",
              "      <td>am</td>\n",
              "    </tr>\n",
              "    <tr>\n",
              "      <th>2</th>\n",
              "      <td>2</td>\n",
              "      <td>0002.wav</td>\n",
              "      <td>3</td>\n",
              "      <td>3</td>\n",
              "      <td>4</td>\n",
              "      <td>e</td>\n",
              "      <td>e</td>\n",
              "      <td>g</td>\n",
              "    </tr>\n",
              "    <tr>\n",
              "      <th>3</th>\n",
              "      <td>3</td>\n",
              "      <td>0003.wav</td>\n",
              "      <td>3</td>\n",
              "      <td>3</td>\n",
              "      <td>4</td>\n",
              "      <td>e</td>\n",
              "      <td>e</td>\n",
              "      <td>g</td>\n",
              "    </tr>\n",
              "    <tr>\n",
              "      <th>4</th>\n",
              "      <td>4</td>\n",
              "      <td>0004.wav</td>\n",
              "      <td>3</td>\n",
              "      <td>3</td>\n",
              "      <td>3</td>\n",
              "      <td>e</td>\n",
              "      <td>e</td>\n",
              "      <td>e</td>\n",
              "    </tr>\n",
              "  </tbody>\n",
              "</table>\n",
              "</div>"
            ],
            "text/plain": [
              "   Unnamed: 0         0  pred_gb  pred_xgb  pred_rf ac_gb ac_xgb ac_rf\n",
              "0           0  0000.wav        1         1        1    dm     dm    dm\n",
              "1           1  0001.wav        3         1        0     e     dm    am\n",
              "2           2  0002.wav        3         3        4     e      e     g\n",
              "3           3  0003.wav        3         3        4     e      e     g\n",
              "4           4  0004.wav        3         3        3     e      e     e"
            ]
          },
          "metadata": {
            "tags": []
          },
          "execution_count": 171
        }
      ]
    },
    {
      "cell_type": "code",
      "metadata": {
        "id": "iJb4R1MvLrr1",
        "colab_type": "code",
        "colab": {
          "base_uri": "https://localhost:8080/",
          "height": 35
        },
        "outputId": "c9e03379-e326-494e-fa30-401922840d71"
      },
      "source": [
        "a = 0\n",
        "for idx, st in ans.iterrows():\n",
        "  if st[\"pred_gb\"] == st['pred_xgb'] == st[\"pred_rf\"]:\n",
        "    a += 1\n",
        "print(a)"
      ],
      "execution_count": 185,
      "outputs": [
        {
          "output_type": "stream",
          "text": [
            "62\n"
          ],
          "name": "stdout"
        }
      ]
    },
    {
      "cell_type": "code",
      "metadata": {
        "id": "rkEgyHASPnFZ",
        "colab_type": "code",
        "colab": {
          "base_uri": "https://localhost:8080/",
          "height": 1000
        },
        "outputId": "7113c835-5231-42b9-cd3d-39b7e4a4a0ee"
      },
      "source": [
        "for idx, st in ans.iterrows():\n",
        "  if not (st[\"pred_gb\"] == st['pred_xgb'] == st[\"pred_rf\"]):\n",
        "    print(st)"
      ],
      "execution_count": 186,
      "outputs": [
        {
          "output_type": "stream",
          "text": [
            "Unnamed: 0           1\n",
            "0             0001.wav\n",
            "pred_gb              3\n",
            "pred_xgb             1\n",
            "pred_rf              0\n",
            "ac_gb                e\n",
            "ac_xgb              dm\n",
            "ac_rf               am\n",
            "Name: 1, dtype: object\n",
            "Unnamed: 0           2\n",
            "0             0002.wav\n",
            "pred_gb              3\n",
            "pred_xgb             3\n",
            "pred_rf              4\n",
            "ac_gb                e\n",
            "ac_xgb               e\n",
            "ac_rf                g\n",
            "Name: 2, dtype: object\n",
            "Unnamed: 0           3\n",
            "0             0003.wav\n",
            "pred_gb              3\n",
            "pred_xgb             3\n",
            "pred_rf              4\n",
            "ac_gb                e\n",
            "ac_xgb               e\n",
            "ac_rf                g\n",
            "Name: 3, dtype: object\n",
            "Unnamed: 0           5\n",
            "0             0005.wav\n",
            "pred_gb              1\n",
            "pred_xgb             1\n",
            "pred_rf              0\n",
            "ac_gb               dm\n",
            "ac_xgb              dm\n",
            "ac_rf               am\n",
            "Name: 5, dtype: object\n",
            "Unnamed: 0           7\n",
            "0             0007.wav\n",
            "pred_gb              0\n",
            "pred_xgb             0\n",
            "pred_rf              2\n",
            "ac_gb               am\n",
            "ac_xgb              am\n",
            "ac_rf                c\n",
            "Name: 7, dtype: object\n",
            "Unnamed: 0           9\n",
            "0             0009.wav\n",
            "pred_gb              3\n",
            "pred_xgb             1\n",
            "pred_rf              3\n",
            "ac_gb                e\n",
            "ac_xgb              dm\n",
            "ac_rf                e\n",
            "Name: 9, dtype: object\n",
            "Unnamed: 0          11\n",
            "0             0011.wav\n",
            "pred_gb              3\n",
            "pred_xgb             1\n",
            "pred_rf              0\n",
            "ac_gb                e\n",
            "ac_xgb              dm\n",
            "ac_rf               am\n",
            "Name: 11, dtype: object\n",
            "Unnamed: 0          16\n",
            "0             0016.wav\n",
            "pred_gb              3\n",
            "pred_xgb             3\n",
            "pred_rf              4\n",
            "ac_gb                e\n",
            "ac_xgb               e\n",
            "ac_rf                g\n",
            "Name: 16, dtype: object\n",
            "Unnamed: 0          17\n",
            "0             0017.wav\n",
            "pred_gb              3\n",
            "pred_xgb             1\n",
            "pred_rf              0\n",
            "ac_gb                e\n",
            "ac_xgb              dm\n",
            "ac_rf               am\n",
            "Name: 17, dtype: object\n",
            "Unnamed: 0          23\n",
            "0             0023.wav\n",
            "pred_gb              3\n",
            "pred_xgb             1\n",
            "pred_rf              3\n",
            "ac_gb                e\n",
            "ac_xgb              dm\n",
            "ac_rf                e\n",
            "Name: 23, dtype: object\n",
            "Unnamed: 0          25\n",
            "0             0025.wav\n",
            "pred_gb              3\n",
            "pred_xgb             1\n",
            "pred_rf              3\n",
            "ac_gb                e\n",
            "ac_xgb              dm\n",
            "ac_rf                e\n",
            "Name: 25, dtype: object\n",
            "Unnamed: 0          31\n",
            "0             0031.wav\n",
            "pred_gb              3\n",
            "pred_xgb             1\n",
            "pred_rf              3\n",
            "ac_gb                e\n",
            "ac_xgb              dm\n",
            "ac_rf                e\n",
            "Name: 31, dtype: object\n",
            "Unnamed: 0          32\n",
            "0             0032.wav\n",
            "pred_gb              3\n",
            "pred_xgb             1\n",
            "pred_rf              3\n",
            "ac_gb                e\n",
            "ac_xgb              dm\n",
            "ac_rf                e\n",
            "Name: 32, dtype: object\n",
            "Unnamed: 0          39\n",
            "0             0039.wav\n",
            "pred_gb              3\n",
            "pred_xgb             3\n",
            "pred_rf              4\n",
            "ac_gb                e\n",
            "ac_xgb               e\n",
            "ac_rf                g\n",
            "Name: 39, dtype: object\n",
            "Unnamed: 0          41\n",
            "0             0041.wav\n",
            "pred_gb              3\n",
            "pred_xgb             3\n",
            "pred_rf              4\n",
            "ac_gb                e\n",
            "ac_xgb               e\n",
            "ac_rf                g\n",
            "Name: 41, dtype: object\n",
            "Unnamed: 0          45\n",
            "0             0045.wav\n",
            "pred_gb              3\n",
            "pred_xgb             1\n",
            "pred_rf              3\n",
            "ac_gb                e\n",
            "ac_xgb              dm\n",
            "ac_rf                e\n",
            "Name: 45, dtype: object\n",
            "Unnamed: 0          47\n",
            "0             0047.wav\n",
            "pred_gb              3\n",
            "pred_xgb             1\n",
            "pred_rf              3\n",
            "ac_gb                e\n",
            "ac_xgb              dm\n",
            "ac_rf                e\n",
            "Name: 47, dtype: object\n",
            "Unnamed: 0          48\n",
            "0             0048.wav\n",
            "pred_gb              3\n",
            "pred_xgb             3\n",
            "pred_rf              4\n",
            "ac_gb                e\n",
            "ac_xgb               e\n",
            "ac_rf                g\n",
            "Name: 48, dtype: object\n",
            "Unnamed: 0          49\n",
            "0             0049.wav\n",
            "pred_gb              3\n",
            "pred_xgb             1\n",
            "pred_rf              3\n",
            "ac_gb                e\n",
            "ac_xgb              dm\n",
            "ac_rf                e\n",
            "Name: 49, dtype: object\n",
            "Unnamed: 0          51\n",
            "0             0051.wav\n",
            "pred_gb              3\n",
            "pred_xgb             3\n",
            "pred_rf              4\n",
            "ac_gb                e\n",
            "ac_xgb               e\n",
            "ac_rf                g\n",
            "Name: 51, dtype: object\n",
            "Unnamed: 0          52\n",
            "0             0052.wav\n",
            "pred_gb              2\n",
            "pred_xgb             2\n",
            "pred_rf              4\n",
            "ac_gb                c\n",
            "ac_xgb               c\n",
            "ac_rf                g\n",
            "Name: 52, dtype: object\n",
            "Unnamed: 0          54\n",
            "0             0054.wav\n",
            "pred_gb              4\n",
            "pred_xgb             4\n",
            "pred_rf              0\n",
            "ac_gb                g\n",
            "ac_xgb               g\n",
            "ac_rf               am\n",
            "Name: 54, dtype: object\n",
            "Unnamed: 0          57\n",
            "0             0057.wav\n",
            "pred_gb              3\n",
            "pred_xgb             1\n",
            "pred_rf              0\n",
            "ac_gb                e\n",
            "ac_xgb              dm\n",
            "ac_rf               am\n",
            "Name: 57, dtype: object\n",
            "Unnamed: 0          59\n",
            "0             0059.wav\n",
            "pred_gb              1\n",
            "pred_xgb             1\n",
            "pred_rf              2\n",
            "ac_gb               dm\n",
            "ac_xgb              dm\n",
            "ac_rf                c\n",
            "Name: 59, dtype: object\n",
            "Unnamed: 0          60\n",
            "0             0060.wav\n",
            "pred_gb              3\n",
            "pred_xgb             1\n",
            "pred_rf              3\n",
            "ac_gb                e\n",
            "ac_xgb              dm\n",
            "ac_rf                e\n",
            "Name: 60, dtype: object\n",
            "Unnamed: 0          61\n",
            "0             0061.wav\n",
            "pred_gb              3\n",
            "pred_xgb             3\n",
            "pred_rf              4\n",
            "ac_gb                e\n",
            "ac_xgb               e\n",
            "ac_rf                g\n",
            "Name: 61, dtype: object\n",
            "Unnamed: 0          64\n",
            "0             0064.wav\n",
            "pred_gb              3\n",
            "pred_xgb             1\n",
            "pred_rf              3\n",
            "ac_gb                e\n",
            "ac_xgb              dm\n",
            "ac_rf                e\n",
            "Name: 64, dtype: object\n",
            "Unnamed: 0          68\n",
            "0             0068.wav\n",
            "pred_gb              3\n",
            "pred_xgb             1\n",
            "pred_rf              3\n",
            "ac_gb                e\n",
            "ac_xgb              dm\n",
            "ac_rf                e\n",
            "Name: 68, dtype: object\n",
            "Unnamed: 0          69\n",
            "0             0069.wav\n",
            "pred_gb              3\n",
            "pred_xgb             3\n",
            "pred_rf              4\n",
            "ac_gb                e\n",
            "ac_xgb               e\n",
            "ac_rf                g\n",
            "Name: 69, dtype: object\n",
            "Unnamed: 0          71\n",
            "0             0071.wav\n",
            "pred_gb              1\n",
            "pred_xgb             1\n",
            "pred_rf              2\n",
            "ac_gb               dm\n",
            "ac_xgb              dm\n",
            "ac_rf                c\n",
            "Name: 71, dtype: object\n",
            "Unnamed: 0          73\n",
            "0             0073.wav\n",
            "pred_gb              3\n",
            "pred_xgb             1\n",
            "pred_rf              3\n",
            "ac_gb                e\n",
            "ac_xgb              dm\n",
            "ac_rf                e\n",
            "Name: 73, dtype: object\n",
            "Unnamed: 0          77\n",
            "0             0077.wav\n",
            "pred_gb              3\n",
            "pred_xgb             1\n",
            "pred_rf              3\n",
            "ac_gb                e\n",
            "ac_xgb              dm\n",
            "ac_rf                e\n",
            "Name: 77, dtype: object\n",
            "Unnamed: 0          78\n",
            "0             0078.wav\n",
            "pred_gb              3\n",
            "pred_xgb             3\n",
            "pred_rf              4\n",
            "ac_gb                e\n",
            "ac_xgb               e\n",
            "ac_rf                g\n",
            "Name: 78, dtype: object\n",
            "Unnamed: 0          79\n",
            "0             0079.wav\n",
            "pred_gb              3\n",
            "pred_xgb             3\n",
            "pred_rf              4\n",
            "ac_gb                e\n",
            "ac_xgb               e\n",
            "ac_rf                g\n",
            "Name: 79, dtype: object\n",
            "Unnamed: 0          80\n",
            "0             0080.wav\n",
            "pred_gb              0\n",
            "pred_xgb             0\n",
            "pred_rf              1\n",
            "ac_gb               am\n",
            "ac_xgb              am\n",
            "ac_rf               dm\n",
            "Name: 80, dtype: object\n",
            "Unnamed: 0          81\n",
            "0             0081.wav\n",
            "pred_gb              3\n",
            "pred_xgb             1\n",
            "pred_rf              3\n",
            "ac_gb                e\n",
            "ac_xgb              dm\n",
            "ac_rf                e\n",
            "Name: 81, dtype: object\n",
            "Unnamed: 0          89\n",
            "0             0089.wav\n",
            "pred_gb              2\n",
            "pred_xgb             0\n",
            "pred_rf              0\n",
            "ac_gb                c\n",
            "ac_xgb              am\n",
            "ac_rf               am\n",
            "Name: 89, dtype: object\n",
            "Unnamed: 0          96\n",
            "0             0096.wav\n",
            "pred_gb              4\n",
            "pred_xgb             4\n",
            "pred_rf              1\n",
            "ac_gb                g\n",
            "ac_xgb               g\n",
            "ac_rf               dm\n",
            "Name: 96, dtype: object\n",
            "Unnamed: 0          99\n",
            "0             0099.wav\n",
            "pred_gb              1\n",
            "pred_xgb             1\n",
            "pred_rf              2\n",
            "ac_gb               dm\n",
            "ac_xgb              dm\n",
            "ac_rf                c\n",
            "Name: 99, dtype: object\n",
            "Unnamed: 0         100\n",
            "0             0100.wav\n",
            "pred_gb              3\n",
            "pred_xgb             3\n",
            "pred_rf              4\n",
            "ac_gb                e\n",
            "ac_xgb               e\n",
            "ac_rf                g\n",
            "Name: 100, dtype: object\n"
          ],
          "name": "stdout"
        }
      ]
    },
    {
      "cell_type": "code",
      "metadata": {
        "id": "inLQXgdOQM14",
        "colab_type": "code",
        "colab": {}
      },
      "source": [
        ""
      ],
      "execution_count": 0,
      "outputs": []
    }
  ]
}